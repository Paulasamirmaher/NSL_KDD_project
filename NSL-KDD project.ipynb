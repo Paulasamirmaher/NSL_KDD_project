{
 "cells": [
  {
   "cell_type": "code",
   "execution_count": 1,
   "id": "1205fd62",
   "metadata": {},
   "outputs": [],
   "source": [
    "import pandas as pd\n",
    "from category_encoders import BinaryEncoder\n",
    "from sklearn.preprocessing import StandardScaler\n",
    "from sklearn.model_selection import train_test_split\n",
    "from sklearn.linear_model import LogisticRegression\n",
    "from sklearn.metrics import accuracy_score\n",
    "import warnings\n",
    "warnings.filterwarnings('ignore')\n",
    "from sklearn.feature_selection import f_regression,SelectKBest\n",
    "from mlxtend.plotting import plot_sequential_feature_selection as plot_sfs\n",
    "from mlxtend.feature_selection import SequentialFeatureSelector\n",
    "import matplotlib.pyplot as plt\n",
    "from sklearn.ensemble import RandomForestClassifier\n",
    "from sklearn.neighbors import KNeighborsClassifier\n",
    "import xgboost as xgb\n",
    "from sklearn.metrics import f1_score"
   ]
  },
  {
   "cell_type": "code",
   "execution_count": 2,
   "id": "ff5bb49f",
   "metadata": {},
   "outputs": [],
   "source": [
    "train_data=pd.read_csv('train_COMPETITION_modified.csv')\n",
    "test_data=pd.read_csv('test_COMPETITION.csv')"
   ]
  },
  {
   "cell_type": "code",
   "execution_count": 3,
   "id": "01685a70",
   "metadata": {},
   "outputs": [
    {
     "name": "stdout",
     "output_type": "stream",
     "text": [
      "The Train data shape is  (14681, 44)\n",
      "The Test data shape is  (5751, 43)\n"
     ]
    }
   ],
   "source": [
    "print('The Train data shape is ', train_data.shape)\n",
    "print('The Test data shape is ',test_data.shape)"
   ]
  },
  {
   "cell_type": "code",
   "execution_count": 4,
   "id": "8ebf00f9",
   "metadata": {
    "scrolled": true
   },
   "outputs": [
    {
     "name": "stdout",
     "output_type": "stream",
     "text": [
      "The null values in Train data columns is \n",
      " ID                             0\n",
      "duration                       0\n",
      "protocol_type                  0\n",
      "service                        0\n",
      "flag                           0\n",
      "src_bytes                      0\n",
      "dst_bytes                      0\n",
      "land                           0\n",
      "wrong_fragment                 0\n",
      "urgent                         0\n",
      "hot                            0\n",
      "num_failed_logins              0\n",
      "logged_in                      0\n",
      "num_compromised                0\n",
      "root_shell                     0\n",
      "su_attempted                   0\n",
      "num_root                       0\n",
      "num_file_creations             0\n",
      "num_shells                     0\n",
      "num_access_files               0\n",
      "num_outbound_cmds              0\n",
      "is_host_login                  0\n",
      "is_guest_login                 0\n",
      "count                          0\n",
      "srv_count                      0\n",
      "serror_rate                    0\n",
      "srv_serror_rate                0\n",
      "rerror_rate                    0\n",
      "srv_rerror_rate                0\n",
      "same_srv_rate                  0\n",
      "diff_srv_rate                  0\n",
      "srv_diff_host_rate             0\n",
      "dst_host_count                 0\n",
      "dst_host_srv_count             0\n",
      "dst_host_same_srv_rate         0\n",
      "dst_host_diff_srv_rate         0\n",
      "dst_host_same_src_port_rate    0\n",
      "dst_host_srv_diff_host_rate    0\n",
      "dst_host_serror_rate           0\n",
      "dst_host_srv_serror_rate       0\n",
      "dst_host_rerror_rate           0\n",
      "dst_host_srv_rerror_rate       0\n",
      "level                          0\n",
      "Class                          0\n",
      "dtype: int64\n"
     ]
    }
   ],
   "source": [
    "print('The null values in Train data columns is' , '\\n', train_data.isnull().sum())"
   ]
  },
  {
   "cell_type": "code",
   "execution_count": 5,
   "id": "6ed5156a",
   "metadata": {
    "scrolled": true
   },
   "outputs": [
    {
     "name": "stdout",
     "output_type": "stream",
     "text": [
      "The null values in Test data columns is \n",
      " ID                             0\n",
      "duration                       0\n",
      "protocol_type                  0\n",
      "service                        0\n",
      "flag                           0\n",
      "src_bytes                      0\n",
      "dst_bytes                      0\n",
      "land                           0\n",
      "wrong_fragment                 0\n",
      "urgent                         0\n",
      "hot                            0\n",
      "num_failed_logins              0\n",
      "logged_in                      0\n",
      "num_compromised                0\n",
      "root_shell                     0\n",
      "su_attempted                   0\n",
      "num_root                       0\n",
      "num_file_creations             0\n",
      "num_shells                     0\n",
      "num_access_files               0\n",
      "num_outbound_cmds              0\n",
      "is_host_login                  0\n",
      "is_guest_login                 0\n",
      "count                          0\n",
      "srv_count                      0\n",
      "serror_rate                    0\n",
      "srv_serror_rate                0\n",
      "rerror_rate                    0\n",
      "srv_rerror_rate                0\n",
      "same_srv_rate                  0\n",
      "diff_srv_rate                  0\n",
      "srv_diff_host_rate             0\n",
      "dst_host_count                 0\n",
      "dst_host_srv_count             0\n",
      "dst_host_same_srv_rate         0\n",
      "dst_host_diff_srv_rate         0\n",
      "dst_host_same_src_port_rate    0\n",
      "dst_host_srv_diff_host_rate    0\n",
      "dst_host_serror_rate           0\n",
      "dst_host_srv_serror_rate       0\n",
      "dst_host_rerror_rate           0\n",
      "dst_host_srv_rerror_rate       0\n",
      "level                          0\n",
      "dtype: int64\n"
     ]
    }
   ],
   "source": [
    "print('The null values in Test data columns is' , '\\n', test_data.isnull().sum())"
   ]
  },
  {
   "cell_type": "markdown",
   "id": "cc279582",
   "metadata": {},
   "source": [
    "### By checking the null values in train and test data we found it clean from null values "
   ]
  },
  {
   "cell_type": "markdown",
   "id": "e87c3add",
   "metadata": {},
   "source": [
    "### --------------------------------------------------------------------------------------------------------------------------------------"
   ]
  },
  {
   "cell_type": "markdown",
   "id": "8a9b309b",
   "metadata": {},
   "source": [
    "### by checking the service columns we found that two values in train data not found in test data "
   ]
  },
  {
   "cell_type": "code",
   "execution_count": 6,
   "id": "eda327ac",
   "metadata": {
    "scrolled": true
   },
   "outputs": [
    {
     "data": {
      "text/plain": [
       "array(['http', 'ftp_data', 'domain_u', 'smtp', 'pop_3', 'other', 'telnet',\n",
       "       'eco_i', 'private', 'finger', 'echo', 'courier', 'ecr_i', 'Z39_50',\n",
       "       'iso_tsap', 'netbios_ns', 'vmnet', 'kshell', 'ntp_u', 'rje',\n",
       "       'http_443', 'ldap', 'daytime', 'csnet_ns', 'exec', 'systat',\n",
       "       'imap4', 'mtp', 'ctf', 'discard', 'name', 'bgp', 'time', 'ssh',\n",
       "       'urp_i', 'supdup', 'ftp', 'link', 'uucp', 'gopher', 'klogin',\n",
       "       'uucp_path', 'pop_2', 'netbios_dgm', 'netstat', 'auth', 'nnsp',\n",
       "       'sql_net', 'whois', 'sunrpc', 'netbios_ssn', 'X11', 'hostnames',\n",
       "       'nntp', 'urh_i', 'efs', 'IRC', 'shell', 'printer', 'login',\n",
       "       'remote_job', 'domain', 'red_i'], dtype=object)"
      ]
     },
     "execution_count": 6,
     "metadata": {},
     "output_type": "execute_result"
    }
   ],
   "source": [
    "test_data.service.unique()"
   ]
  },
  {
   "cell_type": "code",
   "execution_count": 7,
   "id": "a20ae0c8",
   "metadata": {},
   "outputs": [
    {
     "data": {
      "text/plain": [
       "array(['smtp', 'http', 'domain_u', 'telnet', 'ftp_data', 'eco_i',\n",
       "       'private', 'urp_i', 'other', 'red_i', 'ftp', 'auth', 'nnsp',\n",
       "       'Z39_50', 'domain', 'kshell', 'netstat', 'whois', 'systat',\n",
       "       'imap4', 'ecr_i', 'klogin', 'discard', 'daytime', 'ssh', 'IRC',\n",
       "       'uucp_path', 'hostnames', 'iso_tsap', 'name', 'sql_net', 'ctf',\n",
       "       'finger', 'exec', 'sunrpc', 'netbios_ns', 'efs', 'uucp', 'courier',\n",
       "       'csnet_ns', 'pop_3', 'login', 'ldap', 'netbios_ssn', 'ntp_u',\n",
       "       'http_443', 'supdup', 'link', 'X11', 'gopher', 'vmnet', 'mtp',\n",
       "       'netbios_dgm', 'bgp', 'time', 'nntp', 'echo', 'printer', 'shell',\n",
       "       'urh_i', 'remote_job', 'pm_dump', 'rje', 'pop_2', 'tim_i'],\n",
       "      dtype=object)"
      ]
     },
     "execution_count": 7,
     "metadata": {},
     "output_type": "execute_result"
    }
   ],
   "source": [
    "train_data.service.unique()"
   ]
  },
  {
   "cell_type": "code",
   "execution_count": 8,
   "id": "43ec481a",
   "metadata": {},
   "outputs": [],
   "source": [
    "l=[]\n",
    "k=[]\n",
    "for i in range(len(train_data.service.unique())):\n",
    "    if train_data.service.unique()[i] in test_data.service.unique():\n",
    "        l.append( train_data.service.unique()[i])\n",
    "    else:\n",
    "        k.append(train_data.service.unique()[i])"
   ]
  },
  {
   "cell_type": "code",
   "execution_count": 9,
   "id": "98f6d348",
   "metadata": {},
   "outputs": [
    {
     "data": {
      "text/plain": [
       "['pm_dump', 'tim_i']"
      ]
     },
     "execution_count": 9,
     "metadata": {},
     "output_type": "execute_result"
    }
   ],
   "source": [
    "k"
   ]
  },
  {
   "cell_type": "code",
   "execution_count": 10,
   "id": "907290d8",
   "metadata": {},
   "outputs": [],
   "source": [
    "index_to_drop=list(train_data[(train_data['service']=='pm_dump')|(train_data['service']=='tim_i')].index)"
   ]
  },
  {
   "cell_type": "code",
   "execution_count": 11,
   "id": "15d5798d",
   "metadata": {},
   "outputs": [
    {
     "data": {
      "text/plain": [
       "[4650, 9646, 9748]"
      ]
     },
     "execution_count": 11,
     "metadata": {},
     "output_type": "execute_result"
    }
   ],
   "source": [
    "index_to_drop"
   ]
  },
  {
   "cell_type": "code",
   "execution_count": 12,
   "id": "c3180d12",
   "metadata": {
    "scrolled": true
   },
   "outputs": [
    {
     "data": {
      "text/html": [
       "<div>\n",
       "<style scoped>\n",
       "    .dataframe tbody tr th:only-of-type {\n",
       "        vertical-align: middle;\n",
       "    }\n",
       "\n",
       "    .dataframe tbody tr th {\n",
       "        vertical-align: top;\n",
       "    }\n",
       "\n",
       "    .dataframe thead th {\n",
       "        text-align: right;\n",
       "    }\n",
       "</style>\n",
       "<table border=\"1\" class=\"dataframe\">\n",
       "  <thead>\n",
       "    <tr style=\"text-align: right;\">\n",
       "      <th></th>\n",
       "      <th>ID</th>\n",
       "      <th>duration</th>\n",
       "      <th>protocol_type</th>\n",
       "      <th>service</th>\n",
       "      <th>flag</th>\n",
       "      <th>src_bytes</th>\n",
       "      <th>dst_bytes</th>\n",
       "      <th>land</th>\n",
       "      <th>wrong_fragment</th>\n",
       "      <th>urgent</th>\n",
       "      <th>...</th>\n",
       "      <th>dst_host_same_srv_rate</th>\n",
       "      <th>dst_host_diff_srv_rate</th>\n",
       "      <th>dst_host_same_src_port_rate</th>\n",
       "      <th>dst_host_srv_diff_host_rate</th>\n",
       "      <th>dst_host_serror_rate</th>\n",
       "      <th>dst_host_srv_serror_rate</th>\n",
       "      <th>dst_host_rerror_rate</th>\n",
       "      <th>dst_host_srv_rerror_rate</th>\n",
       "      <th>level</th>\n",
       "      <th>Class</th>\n",
       "    </tr>\n",
       "  </thead>\n",
       "  <tbody>\n",
       "    <tr>\n",
       "      <th>0</th>\n",
       "      <td>7060</td>\n",
       "      <td>0</td>\n",
       "      <td>tcp</td>\n",
       "      <td>smtp</td>\n",
       "      <td>SF</td>\n",
       "      <td>1129</td>\n",
       "      <td>327</td>\n",
       "      <td>0</td>\n",
       "      <td>0</td>\n",
       "      <td>0</td>\n",
       "      <td>...</td>\n",
       "      <td>1.00</td>\n",
       "      <td>0.00</td>\n",
       "      <td>0.14</td>\n",
       "      <td>0.02</td>\n",
       "      <td>0.00</td>\n",
       "      <td>0.04</td>\n",
       "      <td>0.0</td>\n",
       "      <td>0.01</td>\n",
       "      <td>21</td>\n",
       "      <td>0</td>\n",
       "    </tr>\n",
       "    <tr>\n",
       "      <th>1</th>\n",
       "      <td>22036</td>\n",
       "      <td>0</td>\n",
       "      <td>tcp</td>\n",
       "      <td>http</td>\n",
       "      <td>SF</td>\n",
       "      <td>242</td>\n",
       "      <td>2147</td>\n",
       "      <td>0</td>\n",
       "      <td>0</td>\n",
       "      <td>0</td>\n",
       "      <td>...</td>\n",
       "      <td>1.00</td>\n",
       "      <td>0.00</td>\n",
       "      <td>0.00</td>\n",
       "      <td>0.00</td>\n",
       "      <td>0.00</td>\n",
       "      <td>0.00</td>\n",
       "      <td>0.0</td>\n",
       "      <td>0.00</td>\n",
       "      <td>21</td>\n",
       "      <td>0</td>\n",
       "    </tr>\n",
       "    <tr>\n",
       "      <th>2</th>\n",
       "      <td>19555</td>\n",
       "      <td>0</td>\n",
       "      <td>tcp</td>\n",
       "      <td>http</td>\n",
       "      <td>SF</td>\n",
       "      <td>299</td>\n",
       "      <td>3991</td>\n",
       "      <td>0</td>\n",
       "      <td>0</td>\n",
       "      <td>0</td>\n",
       "      <td>...</td>\n",
       "      <td>1.00</td>\n",
       "      <td>0.00</td>\n",
       "      <td>0.00</td>\n",
       "      <td>0.00</td>\n",
       "      <td>0.00</td>\n",
       "      <td>0.00</td>\n",
       "      <td>0.0</td>\n",
       "      <td>0.00</td>\n",
       "      <td>21</td>\n",
       "      <td>0</td>\n",
       "    </tr>\n",
       "    <tr>\n",
       "      <th>3</th>\n",
       "      <td>11393</td>\n",
       "      <td>0</td>\n",
       "      <td>udp</td>\n",
       "      <td>domain_u</td>\n",
       "      <td>SF</td>\n",
       "      <td>43</td>\n",
       "      <td>133</td>\n",
       "      <td>0</td>\n",
       "      <td>0</td>\n",
       "      <td>0</td>\n",
       "      <td>...</td>\n",
       "      <td>1.00</td>\n",
       "      <td>0.01</td>\n",
       "      <td>0.00</td>\n",
       "      <td>0.00</td>\n",
       "      <td>0.00</td>\n",
       "      <td>0.00</td>\n",
       "      <td>0.0</td>\n",
       "      <td>0.00</td>\n",
       "      <td>21</td>\n",
       "      <td>0</td>\n",
       "    </tr>\n",
       "    <tr>\n",
       "      <th>4</th>\n",
       "      <td>22783</td>\n",
       "      <td>0</td>\n",
       "      <td>tcp</td>\n",
       "      <td>telnet</td>\n",
       "      <td>S0</td>\n",
       "      <td>0</td>\n",
       "      <td>0</td>\n",
       "      <td>0</td>\n",
       "      <td>0</td>\n",
       "      <td>0</td>\n",
       "      <td>...</td>\n",
       "      <td>0.14</td>\n",
       "      <td>0.19</td>\n",
       "      <td>0.05</td>\n",
       "      <td>0.00</td>\n",
       "      <td>0.10</td>\n",
       "      <td>0.67</td>\n",
       "      <td>0.0</td>\n",
       "      <td>0.00</td>\n",
       "      <td>4</td>\n",
       "      <td>0</td>\n",
       "    </tr>\n",
       "    <tr>\n",
       "      <th>...</th>\n",
       "      <td>...</td>\n",
       "      <td>...</td>\n",
       "      <td>...</td>\n",
       "      <td>...</td>\n",
       "      <td>...</td>\n",
       "      <td>...</td>\n",
       "      <td>...</td>\n",
       "      <td>...</td>\n",
       "      <td>...</td>\n",
       "      <td>...</td>\n",
       "      <td>...</td>\n",
       "      <td>...</td>\n",
       "      <td>...</td>\n",
       "      <td>...</td>\n",
       "      <td>...</td>\n",
       "      <td>...</td>\n",
       "      <td>...</td>\n",
       "      <td>...</td>\n",
       "      <td>...</td>\n",
       "      <td>...</td>\n",
       "      <td>...</td>\n",
       "    </tr>\n",
       "    <tr>\n",
       "      <th>14673</th>\n",
       "      <td>8562</td>\n",
       "      <td>0</td>\n",
       "      <td>tcp</td>\n",
       "      <td>smtp</td>\n",
       "      <td>SF</td>\n",
       "      <td>3873</td>\n",
       "      <td>337</td>\n",
       "      <td>0</td>\n",
       "      <td>0</td>\n",
       "      <td>0</td>\n",
       "      <td>...</td>\n",
       "      <td>0.83</td>\n",
       "      <td>0.03</td>\n",
       "      <td>0.01</td>\n",
       "      <td>0.01</td>\n",
       "      <td>0.00</td>\n",
       "      <td>0.00</td>\n",
       "      <td>0.0</td>\n",
       "      <td>0.00</td>\n",
       "      <td>21</td>\n",
       "      <td>0</td>\n",
       "    </tr>\n",
       "    <tr>\n",
       "      <th>14674</th>\n",
       "      <td>11680</td>\n",
       "      <td>0</td>\n",
       "      <td>tcp</td>\n",
       "      <td>smtp</td>\n",
       "      <td>SF</td>\n",
       "      <td>767</td>\n",
       "      <td>335</td>\n",
       "      <td>0</td>\n",
       "      <td>0</td>\n",
       "      <td>0</td>\n",
       "      <td>...</td>\n",
       "      <td>0.50</td>\n",
       "      <td>0.03</td>\n",
       "      <td>0.00</td>\n",
       "      <td>0.00</td>\n",
       "      <td>0.00</td>\n",
       "      <td>0.00</td>\n",
       "      <td>0.0</td>\n",
       "      <td>0.00</td>\n",
       "      <td>21</td>\n",
       "      <td>0</td>\n",
       "    </tr>\n",
       "    <tr>\n",
       "      <th>14675</th>\n",
       "      <td>1091</td>\n",
       "      <td>0</td>\n",
       "      <td>tcp</td>\n",
       "      <td>http</td>\n",
       "      <td>SF</td>\n",
       "      <td>162</td>\n",
       "      <td>19994</td>\n",
       "      <td>0</td>\n",
       "      <td>0</td>\n",
       "      <td>0</td>\n",
       "      <td>...</td>\n",
       "      <td>1.00</td>\n",
       "      <td>0.00</td>\n",
       "      <td>0.07</td>\n",
       "      <td>0.04</td>\n",
       "      <td>0.07</td>\n",
       "      <td>0.00</td>\n",
       "      <td>0.0</td>\n",
       "      <td>0.00</td>\n",
       "      <td>21</td>\n",
       "      <td>0</td>\n",
       "    </tr>\n",
       "    <tr>\n",
       "      <th>14676</th>\n",
       "      <td>2992</td>\n",
       "      <td>0</td>\n",
       "      <td>udp</td>\n",
       "      <td>domain_u</td>\n",
       "      <td>SF</td>\n",
       "      <td>44</td>\n",
       "      <td>80</td>\n",
       "      <td>0</td>\n",
       "      <td>0</td>\n",
       "      <td>0</td>\n",
       "      <td>...</td>\n",
       "      <td>1.00</td>\n",
       "      <td>0.01</td>\n",
       "      <td>0.00</td>\n",
       "      <td>0.00</td>\n",
       "      <td>0.00</td>\n",
       "      <td>0.00</td>\n",
       "      <td>0.0</td>\n",
       "      <td>0.00</td>\n",
       "      <td>20</td>\n",
       "      <td>0</td>\n",
       "    </tr>\n",
       "    <tr>\n",
       "      <th>14677</th>\n",
       "      <td>22066</td>\n",
       "      <td>3</td>\n",
       "      <td>tcp</td>\n",
       "      <td>smtp</td>\n",
       "      <td>SF</td>\n",
       "      <td>705</td>\n",
       "      <td>329</td>\n",
       "      <td>0</td>\n",
       "      <td>0</td>\n",
       "      <td>0</td>\n",
       "      <td>...</td>\n",
       "      <td>0.72</td>\n",
       "      <td>0.06</td>\n",
       "      <td>0.01</td>\n",
       "      <td>0.01</td>\n",
       "      <td>0.00</td>\n",
       "      <td>0.00</td>\n",
       "      <td>0.0</td>\n",
       "      <td>0.00</td>\n",
       "      <td>21</td>\n",
       "      <td>0</td>\n",
       "    </tr>\n",
       "  </tbody>\n",
       "</table>\n",
       "<p>14678 rows × 44 columns</p>\n",
       "</div>"
      ],
      "text/plain": [
       "          ID  duration protocol_type   service flag  src_bytes  dst_bytes  \\\n",
       "0       7060         0           tcp      smtp   SF       1129        327   \n",
       "1      22036         0           tcp      http   SF        242       2147   \n",
       "2      19555         0           tcp      http   SF        299       3991   \n",
       "3      11393         0           udp  domain_u   SF         43        133   \n",
       "4      22783         0           tcp    telnet   S0          0          0   \n",
       "...      ...       ...           ...       ...  ...        ...        ...   \n",
       "14673   8562         0           tcp      smtp   SF       3873        337   \n",
       "14674  11680         0           tcp      smtp   SF        767        335   \n",
       "14675   1091         0           tcp      http   SF        162      19994   \n",
       "14676   2992         0           udp  domain_u   SF         44         80   \n",
       "14677  22066         3           tcp      smtp   SF        705        329   \n",
       "\n",
       "       land  wrong_fragment  urgent  ...  dst_host_same_srv_rate  \\\n",
       "0         0               0       0  ...                    1.00   \n",
       "1         0               0       0  ...                    1.00   \n",
       "2         0               0       0  ...                    1.00   \n",
       "3         0               0       0  ...                    1.00   \n",
       "4         0               0       0  ...                    0.14   \n",
       "...     ...             ...     ...  ...                     ...   \n",
       "14673     0               0       0  ...                    0.83   \n",
       "14674     0               0       0  ...                    0.50   \n",
       "14675     0               0       0  ...                    1.00   \n",
       "14676     0               0       0  ...                    1.00   \n",
       "14677     0               0       0  ...                    0.72   \n",
       "\n",
       "       dst_host_diff_srv_rate  dst_host_same_src_port_rate  \\\n",
       "0                        0.00                         0.14   \n",
       "1                        0.00                         0.00   \n",
       "2                        0.00                         0.00   \n",
       "3                        0.01                         0.00   \n",
       "4                        0.19                         0.05   \n",
       "...                       ...                          ...   \n",
       "14673                    0.03                         0.01   \n",
       "14674                    0.03                         0.00   \n",
       "14675                    0.00                         0.07   \n",
       "14676                    0.01                         0.00   \n",
       "14677                    0.06                         0.01   \n",
       "\n",
       "       dst_host_srv_diff_host_rate  dst_host_serror_rate  \\\n",
       "0                             0.02                  0.00   \n",
       "1                             0.00                  0.00   \n",
       "2                             0.00                  0.00   \n",
       "3                             0.00                  0.00   \n",
       "4                             0.00                  0.10   \n",
       "...                            ...                   ...   \n",
       "14673                         0.01                  0.00   \n",
       "14674                         0.00                  0.00   \n",
       "14675                         0.04                  0.07   \n",
       "14676                         0.00                  0.00   \n",
       "14677                         0.01                  0.00   \n",
       "\n",
       "       dst_host_srv_serror_rate  dst_host_rerror_rate  \\\n",
       "0                          0.04                   0.0   \n",
       "1                          0.00                   0.0   \n",
       "2                          0.00                   0.0   \n",
       "3                          0.00                   0.0   \n",
       "4                          0.67                   0.0   \n",
       "...                         ...                   ...   \n",
       "14673                      0.00                   0.0   \n",
       "14674                      0.00                   0.0   \n",
       "14675                      0.00                   0.0   \n",
       "14676                      0.00                   0.0   \n",
       "14677                      0.00                   0.0   \n",
       "\n",
       "       dst_host_srv_rerror_rate  level  Class  \n",
       "0                          0.01     21      0  \n",
       "1                          0.00     21      0  \n",
       "2                          0.00     21      0  \n",
       "3                          0.00     21      0  \n",
       "4                          0.00      4      0  \n",
       "...                         ...    ...    ...  \n",
       "14673                      0.00     21      0  \n",
       "14674                      0.00     21      0  \n",
       "14675                      0.00     21      0  \n",
       "14676                      0.00     20      0  \n",
       "14677                      0.00     21      0  \n",
       "\n",
       "[14678 rows x 44 columns]"
      ]
     },
     "execution_count": 12,
     "metadata": {},
     "output_type": "execute_result"
    }
   ],
   "source": [
    "train_data.drop(index_to_drop,axis=0,inplace=True)\n",
    "train_data.reset_index(drop=True)"
   ]
  },
  {
   "cell_type": "markdown",
   "id": "ab83feeb",
   "metadata": {},
   "source": [
    "### -------------------------------------------------------------------------------------------------------------------------"
   ]
  },
  {
   "cell_type": "markdown",
   "id": "8706340d",
   "metadata": {},
   "source": [
    "### By check the number of unique values in both train and test data we found that more than one column have only one value so we drop them to not affect the model and the ID columns becuase it is useless['urgent' ,'num_outbound_cmds','is_host_login','ID']"
   ]
  },
  {
   "cell_type": "code",
   "execution_count": 13,
   "id": "fe025252",
   "metadata": {
    "scrolled": false
   },
   "outputs": [
    {
     "data": {
      "text/html": [
       "<div>\n",
       "<style scoped>\n",
       "    .dataframe tbody tr th:only-of-type {\n",
       "        vertical-align: middle;\n",
       "    }\n",
       "\n",
       "    .dataframe tbody tr th {\n",
       "        vertical-align: top;\n",
       "    }\n",
       "\n",
       "    .dataframe thead th {\n",
       "        text-align: right;\n",
       "    }\n",
       "</style>\n",
       "<table border=\"1\" class=\"dataframe\">\n",
       "  <thead>\n",
       "    <tr style=\"text-align: right;\">\n",
       "      <th></th>\n",
       "      <th>columns_name</th>\n",
       "      <th>unique_values</th>\n",
       "    </tr>\n",
       "  </thead>\n",
       "  <tbody>\n",
       "    <tr>\n",
       "      <th>9</th>\n",
       "      <td>urgent</td>\n",
       "      <td>1</td>\n",
       "    </tr>\n",
       "    <tr>\n",
       "      <th>20</th>\n",
       "      <td>num_outbound_cmds</td>\n",
       "      <td>1</td>\n",
       "    </tr>\n",
       "    <tr>\n",
       "      <th>21</th>\n",
       "      <td>is_host_login</td>\n",
       "      <td>1</td>\n",
       "    </tr>\n",
       "  </tbody>\n",
       "</table>\n",
       "</div>"
      ],
      "text/plain": [
       "         columns_name  unique_values\n",
       "9              urgent              1\n",
       "20  num_outbound_cmds              1\n",
       "21      is_host_login              1"
      ]
     },
     "execution_count": 13,
     "metadata": {},
     "output_type": "execute_result"
    }
   ],
   "source": [
    "train_unique_values=pd.DataFrame(train_data.apply(lambda x: x.value_counts(dropna=False).size)).reset_index()\n",
    "train_unique_values.columns = ['columns_name','unique_values']\n",
    "train_unique_values[train_unique_values['unique_values']==1]"
   ]
  },
  {
   "cell_type": "code",
   "execution_count": 14,
   "id": "cffda9cc",
   "metadata": {},
   "outputs": [
    {
     "data": {
      "text/html": [
       "<div>\n",
       "<style scoped>\n",
       "    .dataframe tbody tr th:only-of-type {\n",
       "        vertical-align: middle;\n",
       "    }\n",
       "\n",
       "    .dataframe tbody tr th {\n",
       "        vertical-align: top;\n",
       "    }\n",
       "\n",
       "    .dataframe thead th {\n",
       "        text-align: right;\n",
       "    }\n",
       "</style>\n",
       "<table border=\"1\" class=\"dataframe\">\n",
       "  <thead>\n",
       "    <tr style=\"text-align: right;\">\n",
       "      <th></th>\n",
       "      <th>column_name</th>\n",
       "      <th>unique_values</th>\n",
       "    </tr>\n",
       "  </thead>\n",
       "  <tbody>\n",
       "    <tr>\n",
       "      <th>7</th>\n",
       "      <td>land</td>\n",
       "      <td>1</td>\n",
       "    </tr>\n",
       "    <tr>\n",
       "      <th>20</th>\n",
       "      <td>num_outbound_cmds</td>\n",
       "      <td>1</td>\n",
       "    </tr>\n",
       "    <tr>\n",
       "      <th>21</th>\n",
       "      <td>is_host_login</td>\n",
       "      <td>1</td>\n",
       "    </tr>\n",
       "  </tbody>\n",
       "</table>\n",
       "</div>"
      ],
      "text/plain": [
       "          column_name  unique_values\n",
       "7                land              1\n",
       "20  num_outbound_cmds              1\n",
       "21      is_host_login              1"
      ]
     },
     "execution_count": 14,
     "metadata": {},
     "output_type": "execute_result"
    }
   ],
   "source": [
    "#unique_values=pd.DataFrame(test_data.apply(lambda x:x.value_counts(dropna=False).size))\n",
    "#unique_values.columns=['column_name','unique_value_in columns']\n",
    "output_df = pd.DataFrame(test_data.apply(lambda x: x.value_counts(dropna=False).size)).reset_index()\n",
    "output_df.columns = ['column_name', 'unique_values']\n",
    "output_df[output_df['unique_values']==1]"
   ]
  },
  {
   "cell_type": "code",
   "execution_count": 15,
   "id": "0749c463",
   "metadata": {},
   "outputs": [],
   "source": [
    "train_data.drop(['urgent' ,'num_outbound_cmds','is_host_login','ID'],axis=1,inplace=True)\n",
    "test_data.drop(['urgent' ,'num_outbound_cmds','is_host_login','ID'],axis=1,inplace=True)"
   ]
  },
  {
   "cell_type": "markdown",
   "id": "2e51ef23",
   "metadata": {},
   "source": [
    "### -------------------------------------------------------------------------------------------------------------------------"
   ]
  },
  {
   "cell_type": "markdown",
   "id": "eff81998",
   "metadata": {},
   "source": [
    "### split the train data into features and target"
   ]
  },
  {
   "cell_type": "code",
   "execution_count": 16,
   "id": "cb05b568",
   "metadata": {},
   "outputs": [],
   "source": [
    "x=train_data.drop('Class',axis=1)\n",
    "y=train_data['Class']"
   ]
  },
  {
   "cell_type": "markdown",
   "id": "e23499ae",
   "metadata": {},
   "source": [
    "### ------------------------------------------------------------------------------------------------------------------------"
   ]
  },
  {
   "cell_type": "markdown",
   "id": "0256dcc6",
   "metadata": {},
   "source": [
    "## Encoder"
   ]
  },
  {
   "cell_type": "code",
   "execution_count": 17,
   "id": "2f0f9cbd",
   "metadata": {},
   "outputs": [],
   "source": [
    "encoder=BinaryEncoder()\n",
    "x_train_binary_ec=encoder.fit_transform(x)"
   ]
  },
  {
   "cell_type": "code",
   "execution_count": 18,
   "id": "ae613d1f",
   "metadata": {},
   "outputs": [
    {
     "data": {
      "text/html": [
       "<div>\n",
       "<style scoped>\n",
       "    .dataframe tbody tr th:only-of-type {\n",
       "        vertical-align: middle;\n",
       "    }\n",
       "\n",
       "    .dataframe tbody tr th {\n",
       "        vertical-align: top;\n",
       "    }\n",
       "\n",
       "    .dataframe thead th {\n",
       "        text-align: right;\n",
       "    }\n",
       "</style>\n",
       "<table border=\"1\" class=\"dataframe\">\n",
       "  <thead>\n",
       "    <tr style=\"text-align: right;\">\n",
       "      <th></th>\n",
       "      <th>duration</th>\n",
       "      <th>protocol_type_0</th>\n",
       "      <th>protocol_type_1</th>\n",
       "      <th>service_0</th>\n",
       "      <th>service_1</th>\n",
       "      <th>service_2</th>\n",
       "      <th>service_3</th>\n",
       "      <th>service_4</th>\n",
       "      <th>service_5</th>\n",
       "      <th>flag_0</th>\n",
       "      <th>...</th>\n",
       "      <th>dst_host_srv_count</th>\n",
       "      <th>dst_host_same_srv_rate</th>\n",
       "      <th>dst_host_diff_srv_rate</th>\n",
       "      <th>dst_host_same_src_port_rate</th>\n",
       "      <th>dst_host_srv_diff_host_rate</th>\n",
       "      <th>dst_host_serror_rate</th>\n",
       "      <th>dst_host_srv_serror_rate</th>\n",
       "      <th>dst_host_rerror_rate</th>\n",
       "      <th>dst_host_srv_rerror_rate</th>\n",
       "      <th>level</th>\n",
       "    </tr>\n",
       "  </thead>\n",
       "  <tbody>\n",
       "    <tr>\n",
       "      <th>0</th>\n",
       "      <td>0</td>\n",
       "      <td>0</td>\n",
       "      <td>1</td>\n",
       "      <td>0</td>\n",
       "      <td>0</td>\n",
       "      <td>0</td>\n",
       "      <td>0</td>\n",
       "      <td>0</td>\n",
       "      <td>1</td>\n",
       "      <td>0</td>\n",
       "      <td>...</td>\n",
       "      <td>138</td>\n",
       "      <td>1.00</td>\n",
       "      <td>0.00</td>\n",
       "      <td>0.14</td>\n",
       "      <td>0.02</td>\n",
       "      <td>0.00</td>\n",
       "      <td>0.04</td>\n",
       "      <td>0.0</td>\n",
       "      <td>0.01</td>\n",
       "      <td>21</td>\n",
       "    </tr>\n",
       "    <tr>\n",
       "      <th>1</th>\n",
       "      <td>0</td>\n",
       "      <td>0</td>\n",
       "      <td>1</td>\n",
       "      <td>0</td>\n",
       "      <td>0</td>\n",
       "      <td>0</td>\n",
       "      <td>0</td>\n",
       "      <td>1</td>\n",
       "      <td>0</td>\n",
       "      <td>0</td>\n",
       "      <td>...</td>\n",
       "      <td>255</td>\n",
       "      <td>1.00</td>\n",
       "      <td>0.00</td>\n",
       "      <td>0.00</td>\n",
       "      <td>0.00</td>\n",
       "      <td>0.00</td>\n",
       "      <td>0.00</td>\n",
       "      <td>0.0</td>\n",
       "      <td>0.00</td>\n",
       "      <td>21</td>\n",
       "    </tr>\n",
       "    <tr>\n",
       "      <th>2</th>\n",
       "      <td>0</td>\n",
       "      <td>0</td>\n",
       "      <td>1</td>\n",
       "      <td>0</td>\n",
       "      <td>0</td>\n",
       "      <td>0</td>\n",
       "      <td>0</td>\n",
       "      <td>1</td>\n",
       "      <td>0</td>\n",
       "      <td>0</td>\n",
       "      <td>...</td>\n",
       "      <td>255</td>\n",
       "      <td>1.00</td>\n",
       "      <td>0.00</td>\n",
       "      <td>0.00</td>\n",
       "      <td>0.00</td>\n",
       "      <td>0.00</td>\n",
       "      <td>0.00</td>\n",
       "      <td>0.0</td>\n",
       "      <td>0.00</td>\n",
       "      <td>21</td>\n",
       "    </tr>\n",
       "    <tr>\n",
       "      <th>3</th>\n",
       "      <td>0</td>\n",
       "      <td>1</td>\n",
       "      <td>0</td>\n",
       "      <td>0</td>\n",
       "      <td>0</td>\n",
       "      <td>0</td>\n",
       "      <td>0</td>\n",
       "      <td>1</td>\n",
       "      <td>1</td>\n",
       "      <td>0</td>\n",
       "      <td>...</td>\n",
       "      <td>254</td>\n",
       "      <td>1.00</td>\n",
       "      <td>0.01</td>\n",
       "      <td>0.00</td>\n",
       "      <td>0.00</td>\n",
       "      <td>0.00</td>\n",
       "      <td>0.00</td>\n",
       "      <td>0.0</td>\n",
       "      <td>0.00</td>\n",
       "      <td>21</td>\n",
       "    </tr>\n",
       "    <tr>\n",
       "      <th>4</th>\n",
       "      <td>0</td>\n",
       "      <td>0</td>\n",
       "      <td>1</td>\n",
       "      <td>0</td>\n",
       "      <td>0</td>\n",
       "      <td>0</td>\n",
       "      <td>1</td>\n",
       "      <td>0</td>\n",
       "      <td>0</td>\n",
       "      <td>0</td>\n",
       "      <td>...</td>\n",
       "      <td>3</td>\n",
       "      <td>0.14</td>\n",
       "      <td>0.19</td>\n",
       "      <td>0.05</td>\n",
       "      <td>0.00</td>\n",
       "      <td>0.10</td>\n",
       "      <td>0.67</td>\n",
       "      <td>0.0</td>\n",
       "      <td>0.00</td>\n",
       "      <td>4</td>\n",
       "    </tr>\n",
       "    <tr>\n",
       "      <th>...</th>\n",
       "      <td>...</td>\n",
       "      <td>...</td>\n",
       "      <td>...</td>\n",
       "      <td>...</td>\n",
       "      <td>...</td>\n",
       "      <td>...</td>\n",
       "      <td>...</td>\n",
       "      <td>...</td>\n",
       "      <td>...</td>\n",
       "      <td>...</td>\n",
       "      <td>...</td>\n",
       "      <td>...</td>\n",
       "      <td>...</td>\n",
       "      <td>...</td>\n",
       "      <td>...</td>\n",
       "      <td>...</td>\n",
       "      <td>...</td>\n",
       "      <td>...</td>\n",
       "      <td>...</td>\n",
       "      <td>...</td>\n",
       "      <td>...</td>\n",
       "    </tr>\n",
       "    <tr>\n",
       "      <th>14676</th>\n",
       "      <td>0</td>\n",
       "      <td>0</td>\n",
       "      <td>1</td>\n",
       "      <td>0</td>\n",
       "      <td>0</td>\n",
       "      <td>0</td>\n",
       "      <td>0</td>\n",
       "      <td>0</td>\n",
       "      <td>1</td>\n",
       "      <td>0</td>\n",
       "      <td>...</td>\n",
       "      <td>156</td>\n",
       "      <td>0.83</td>\n",
       "      <td>0.03</td>\n",
       "      <td>0.01</td>\n",
       "      <td>0.01</td>\n",
       "      <td>0.00</td>\n",
       "      <td>0.00</td>\n",
       "      <td>0.0</td>\n",
       "      <td>0.00</td>\n",
       "      <td>21</td>\n",
       "    </tr>\n",
       "    <tr>\n",
       "      <th>14677</th>\n",
       "      <td>0</td>\n",
       "      <td>0</td>\n",
       "      <td>1</td>\n",
       "      <td>0</td>\n",
       "      <td>0</td>\n",
       "      <td>0</td>\n",
       "      <td>0</td>\n",
       "      <td>0</td>\n",
       "      <td>1</td>\n",
       "      <td>0</td>\n",
       "      <td>...</td>\n",
       "      <td>105</td>\n",
       "      <td>0.50</td>\n",
       "      <td>0.03</td>\n",
       "      <td>0.00</td>\n",
       "      <td>0.00</td>\n",
       "      <td>0.00</td>\n",
       "      <td>0.00</td>\n",
       "      <td>0.0</td>\n",
       "      <td>0.00</td>\n",
       "      <td>21</td>\n",
       "    </tr>\n",
       "    <tr>\n",
       "      <th>14678</th>\n",
       "      <td>0</td>\n",
       "      <td>0</td>\n",
       "      <td>1</td>\n",
       "      <td>0</td>\n",
       "      <td>0</td>\n",
       "      <td>0</td>\n",
       "      <td>0</td>\n",
       "      <td>1</td>\n",
       "      <td>0</td>\n",
       "      <td>0</td>\n",
       "      <td>...</td>\n",
       "      <td>255</td>\n",
       "      <td>1.00</td>\n",
       "      <td>0.00</td>\n",
       "      <td>0.07</td>\n",
       "      <td>0.04</td>\n",
       "      <td>0.07</td>\n",
       "      <td>0.00</td>\n",
       "      <td>0.0</td>\n",
       "      <td>0.00</td>\n",
       "      <td>21</td>\n",
       "    </tr>\n",
       "    <tr>\n",
       "      <th>14679</th>\n",
       "      <td>0</td>\n",
       "      <td>1</td>\n",
       "      <td>0</td>\n",
       "      <td>0</td>\n",
       "      <td>0</td>\n",
       "      <td>0</td>\n",
       "      <td>0</td>\n",
       "      <td>1</td>\n",
       "      <td>1</td>\n",
       "      <td>0</td>\n",
       "      <td>...</td>\n",
       "      <td>254</td>\n",
       "      <td>1.00</td>\n",
       "      <td>0.01</td>\n",
       "      <td>0.00</td>\n",
       "      <td>0.00</td>\n",
       "      <td>0.00</td>\n",
       "      <td>0.00</td>\n",
       "      <td>0.0</td>\n",
       "      <td>0.00</td>\n",
       "      <td>20</td>\n",
       "    </tr>\n",
       "    <tr>\n",
       "      <th>14680</th>\n",
       "      <td>3</td>\n",
       "      <td>0</td>\n",
       "      <td>1</td>\n",
       "      <td>0</td>\n",
       "      <td>0</td>\n",
       "      <td>0</td>\n",
       "      <td>0</td>\n",
       "      <td>0</td>\n",
       "      <td>1</td>\n",
       "      <td>0</td>\n",
       "      <td>...</td>\n",
       "      <td>184</td>\n",
       "      <td>0.72</td>\n",
       "      <td>0.06</td>\n",
       "      <td>0.01</td>\n",
       "      <td>0.01</td>\n",
       "      <td>0.00</td>\n",
       "      <td>0.00</td>\n",
       "      <td>0.0</td>\n",
       "      <td>0.00</td>\n",
       "      <td>21</td>\n",
       "    </tr>\n",
       "  </tbody>\n",
       "</table>\n",
       "<p>14678 rows × 48 columns</p>\n",
       "</div>"
      ],
      "text/plain": [
       "       duration  protocol_type_0  protocol_type_1  service_0  service_1  \\\n",
       "0             0                0                1          0          0   \n",
       "1             0                0                1          0          0   \n",
       "2             0                0                1          0          0   \n",
       "3             0                1                0          0          0   \n",
       "4             0                0                1          0          0   \n",
       "...         ...              ...              ...        ...        ...   \n",
       "14676         0                0                1          0          0   \n",
       "14677         0                0                1          0          0   \n",
       "14678         0                0                1          0          0   \n",
       "14679         0                1                0          0          0   \n",
       "14680         3                0                1          0          0   \n",
       "\n",
       "       service_2  service_3  service_4  service_5  flag_0  ...  \\\n",
       "0              0          0          0          1       0  ...   \n",
       "1              0          0          1          0       0  ...   \n",
       "2              0          0          1          0       0  ...   \n",
       "3              0          0          1          1       0  ...   \n",
       "4              0          1          0          0       0  ...   \n",
       "...          ...        ...        ...        ...     ...  ...   \n",
       "14676          0          0          0          1       0  ...   \n",
       "14677          0          0          0          1       0  ...   \n",
       "14678          0          0          1          0       0  ...   \n",
       "14679          0          0          1          1       0  ...   \n",
       "14680          0          0          0          1       0  ...   \n",
       "\n",
       "       dst_host_srv_count  dst_host_same_srv_rate  dst_host_diff_srv_rate  \\\n",
       "0                     138                    1.00                    0.00   \n",
       "1                     255                    1.00                    0.00   \n",
       "2                     255                    1.00                    0.00   \n",
       "3                     254                    1.00                    0.01   \n",
       "4                       3                    0.14                    0.19   \n",
       "...                   ...                     ...                     ...   \n",
       "14676                 156                    0.83                    0.03   \n",
       "14677                 105                    0.50                    0.03   \n",
       "14678                 255                    1.00                    0.00   \n",
       "14679                 254                    1.00                    0.01   \n",
       "14680                 184                    0.72                    0.06   \n",
       "\n",
       "       dst_host_same_src_port_rate  dst_host_srv_diff_host_rate  \\\n",
       "0                             0.14                         0.02   \n",
       "1                             0.00                         0.00   \n",
       "2                             0.00                         0.00   \n",
       "3                             0.00                         0.00   \n",
       "4                             0.05                         0.00   \n",
       "...                            ...                          ...   \n",
       "14676                         0.01                         0.01   \n",
       "14677                         0.00                         0.00   \n",
       "14678                         0.07                         0.04   \n",
       "14679                         0.00                         0.00   \n",
       "14680                         0.01                         0.01   \n",
       "\n",
       "       dst_host_serror_rate  dst_host_srv_serror_rate  dst_host_rerror_rate  \\\n",
       "0                      0.00                      0.04                   0.0   \n",
       "1                      0.00                      0.00                   0.0   \n",
       "2                      0.00                      0.00                   0.0   \n",
       "3                      0.00                      0.00                   0.0   \n",
       "4                      0.10                      0.67                   0.0   \n",
       "...                     ...                       ...                   ...   \n",
       "14676                  0.00                      0.00                   0.0   \n",
       "14677                  0.00                      0.00                   0.0   \n",
       "14678                  0.07                      0.00                   0.0   \n",
       "14679                  0.00                      0.00                   0.0   \n",
       "14680                  0.00                      0.00                   0.0   \n",
       "\n",
       "       dst_host_srv_rerror_rate  level  \n",
       "0                          0.01     21  \n",
       "1                          0.00     21  \n",
       "2                          0.00     21  \n",
       "3                          0.00     21  \n",
       "4                          0.00      4  \n",
       "...                         ...    ...  \n",
       "14676                      0.00     21  \n",
       "14677                      0.00     21  \n",
       "14678                      0.00     21  \n",
       "14679                      0.00     20  \n",
       "14680                      0.00     21  \n",
       "\n",
       "[14678 rows x 48 columns]"
      ]
     },
     "execution_count": 18,
     "metadata": {},
     "output_type": "execute_result"
    }
   ],
   "source": [
    "x_train_binary_ec"
   ]
  },
  {
   "cell_type": "markdown",
   "id": "5cd1caad",
   "metadata": {},
   "source": [
    "### --------------------------------------------------------------------------------------------------------------------"
   ]
  },
  {
   "cell_type": "markdown",
   "id": "b1264687",
   "metadata": {},
   "source": [
    "### scaling data"
   ]
  },
  {
   "cell_type": "code",
   "execution_count": 19,
   "id": "2cb3f486",
   "metadata": {},
   "outputs": [],
   "source": [
    "scaler=StandardScaler()\n",
    "numerical_col=x.select_dtypes(include=['float64', 'int64']).columns\n",
    "x_train_binary_ec[numerical_col]=scaler.fit_transform(x_train_binary_ec[numerical_col])"
   ]
  },
  {
   "cell_type": "markdown",
   "id": "775d5cc9",
   "metadata": {},
   "source": [
    "### -----------------------------------------------------------------------------------------------------------------------------"
   ]
  },
  {
   "cell_type": "markdown",
   "id": "0b495cfb",
   "metadata": {},
   "source": [
    "### Train,Test split"
   ]
  },
  {
   "cell_type": "code",
   "execution_count": 20,
   "id": "02a74a72",
   "metadata": {},
   "outputs": [],
   "source": [
    "x_train1 , x_test1 , y_train1 , y_test1=train_test_split(x_train_binary_ec,y,test_size=0.2,random_state=42)"
   ]
  },
  {
   "cell_type": "markdown",
   "id": "2b5fb8c3",
   "metadata": {},
   "source": [
    "### -------------------------------------------------------------------------------------------------------------------------"
   ]
  },
  {
   "cell_type": "markdown",
   "id": "b997c231",
   "metadata": {},
   "source": [
    "### Logistic Regression model"
   ]
  },
  {
   "cell_type": "code",
   "execution_count": 21,
   "id": "e46478a5",
   "metadata": {},
   "outputs": [
    {
     "data": {
      "text/html": [
       "<div>\n",
       "<style scoped>\n",
       "    .dataframe tbody tr th:only-of-type {\n",
       "        vertical-align: middle;\n",
       "    }\n",
       "\n",
       "    .dataframe tbody tr th {\n",
       "        vertical-align: top;\n",
       "    }\n",
       "\n",
       "    .dataframe thead th {\n",
       "        text-align: right;\n",
       "    }\n",
       "</style>\n",
       "<table border=\"1\" class=\"dataframe\">\n",
       "  <thead>\n",
       "    <tr style=\"text-align: right;\">\n",
       "      <th></th>\n",
       "      <th>duration</th>\n",
       "      <th>protocol_type_0</th>\n",
       "      <th>protocol_type_1</th>\n",
       "      <th>service_0</th>\n",
       "      <th>service_1</th>\n",
       "      <th>service_2</th>\n",
       "      <th>service_3</th>\n",
       "      <th>service_4</th>\n",
       "      <th>service_5</th>\n",
       "      <th>flag_0</th>\n",
       "      <th>...</th>\n",
       "      <th>dst_host_srv_count</th>\n",
       "      <th>dst_host_same_srv_rate</th>\n",
       "      <th>dst_host_diff_srv_rate</th>\n",
       "      <th>dst_host_same_src_port_rate</th>\n",
       "      <th>dst_host_srv_diff_host_rate</th>\n",
       "      <th>dst_host_serror_rate</th>\n",
       "      <th>dst_host_srv_serror_rate</th>\n",
       "      <th>dst_host_rerror_rate</th>\n",
       "      <th>dst_host_srv_rerror_rate</th>\n",
       "      <th>level</th>\n",
       "    </tr>\n",
       "  </thead>\n",
       "  <tbody>\n",
       "    <tr>\n",
       "      <th>0</th>\n",
       "      <td>-0.115005</td>\n",
       "      <td>0</td>\n",
       "      <td>1</td>\n",
       "      <td>0</td>\n",
       "      <td>0</td>\n",
       "      <td>0</td>\n",
       "      <td>0</td>\n",
       "      <td>0</td>\n",
       "      <td>1</td>\n",
       "      <td>0</td>\n",
       "      <td>...</td>\n",
       "      <td>0.128060</td>\n",
       "      <td>0.997109</td>\n",
       "      <td>-0.426400</td>\n",
       "      <td>-0.015554</td>\n",
       "      <td>-0.101402</td>\n",
       "      <td>-0.595208</td>\n",
       "      <td>-0.487387</td>\n",
       "      <td>-0.365325</td>\n",
       "      <td>-0.323231</td>\n",
       "      <td>0.629334</td>\n",
       "    </tr>\n",
       "    <tr>\n",
       "      <th>1</th>\n",
       "      <td>-0.115005</td>\n",
       "      <td>0</td>\n",
       "      <td>1</td>\n",
       "      <td>0</td>\n",
       "      <td>0</td>\n",
       "      <td>0</td>\n",
       "      <td>0</td>\n",
       "      <td>1</td>\n",
       "      <td>0</td>\n",
       "      <td>0</td>\n",
       "      <td>...</td>\n",
       "      <td>1.177794</td>\n",
       "      <td>0.997109</td>\n",
       "      <td>-0.426400</td>\n",
       "      <td>-0.476635</td>\n",
       "      <td>-0.292196</td>\n",
       "      <td>-0.595208</td>\n",
       "      <td>-0.580471</td>\n",
       "      <td>-0.365325</td>\n",
       "      <td>-0.356154</td>\n",
       "      <td>0.629334</td>\n",
       "    </tr>\n",
       "    <tr>\n",
       "      <th>2</th>\n",
       "      <td>-0.115005</td>\n",
       "      <td>0</td>\n",
       "      <td>1</td>\n",
       "      <td>0</td>\n",
       "      <td>0</td>\n",
       "      <td>0</td>\n",
       "      <td>0</td>\n",
       "      <td>1</td>\n",
       "      <td>0</td>\n",
       "      <td>0</td>\n",
       "      <td>...</td>\n",
       "      <td>1.177794</td>\n",
       "      <td>0.997109</td>\n",
       "      <td>-0.426400</td>\n",
       "      <td>-0.476635</td>\n",
       "      <td>-0.292196</td>\n",
       "      <td>-0.595208</td>\n",
       "      <td>-0.580471</td>\n",
       "      <td>-0.365325</td>\n",
       "      <td>-0.356154</td>\n",
       "      <td>0.629334</td>\n",
       "    </tr>\n",
       "    <tr>\n",
       "      <th>3</th>\n",
       "      <td>-0.115005</td>\n",
       "      <td>1</td>\n",
       "      <td>0</td>\n",
       "      <td>0</td>\n",
       "      <td>0</td>\n",
       "      <td>0</td>\n",
       "      <td>0</td>\n",
       "      <td>1</td>\n",
       "      <td>1</td>\n",
       "      <td>0</td>\n",
       "      <td>...</td>\n",
       "      <td>1.168822</td>\n",
       "      <td>0.997109</td>\n",
       "      <td>-0.372018</td>\n",
       "      <td>-0.476635</td>\n",
       "      <td>-0.292196</td>\n",
       "      <td>-0.595208</td>\n",
       "      <td>-0.580471</td>\n",
       "      <td>-0.365325</td>\n",
       "      <td>-0.356154</td>\n",
       "      <td>0.629334</td>\n",
       "    </tr>\n",
       "    <tr>\n",
       "      <th>4</th>\n",
       "      <td>-0.115005</td>\n",
       "      <td>0</td>\n",
       "      <td>1</td>\n",
       "      <td>0</td>\n",
       "      <td>0</td>\n",
       "      <td>0</td>\n",
       "      <td>1</td>\n",
       "      <td>0</td>\n",
       "      <td>0</td>\n",
       "      <td>0</td>\n",
       "      <td>...</td>\n",
       "      <td>-1.083171</td>\n",
       "      <td>-0.927487</td>\n",
       "      <td>0.606864</td>\n",
       "      <td>-0.311963</td>\n",
       "      <td>-0.292196</td>\n",
       "      <td>-0.362286</td>\n",
       "      <td>0.978697</td>\n",
       "      <td>-0.365325</td>\n",
       "      <td>-0.356154</td>\n",
       "      <td>-6.981546</td>\n",
       "    </tr>\n",
       "    <tr>\n",
       "      <th>...</th>\n",
       "      <td>...</td>\n",
       "      <td>...</td>\n",
       "      <td>...</td>\n",
       "      <td>...</td>\n",
       "      <td>...</td>\n",
       "      <td>...</td>\n",
       "      <td>...</td>\n",
       "      <td>...</td>\n",
       "      <td>...</td>\n",
       "      <td>...</td>\n",
       "      <td>...</td>\n",
       "      <td>...</td>\n",
       "      <td>...</td>\n",
       "      <td>...</td>\n",
       "      <td>...</td>\n",
       "      <td>...</td>\n",
       "      <td>...</td>\n",
       "      <td>...</td>\n",
       "      <td>...</td>\n",
       "      <td>...</td>\n",
       "      <td>...</td>\n",
       "    </tr>\n",
       "    <tr>\n",
       "      <th>14676</th>\n",
       "      <td>-0.115005</td>\n",
       "      <td>0</td>\n",
       "      <td>1</td>\n",
       "      <td>0</td>\n",
       "      <td>0</td>\n",
       "      <td>0</td>\n",
       "      <td>0</td>\n",
       "      <td>0</td>\n",
       "      <td>1</td>\n",
       "      <td>0</td>\n",
       "      <td>...</td>\n",
       "      <td>0.289558</td>\n",
       "      <td>0.616666</td>\n",
       "      <td>-0.263253</td>\n",
       "      <td>-0.443700</td>\n",
       "      <td>-0.196799</td>\n",
       "      <td>-0.595208</td>\n",
       "      <td>-0.580471</td>\n",
       "      <td>-0.365325</td>\n",
       "      <td>-0.356154</td>\n",
       "      <td>0.629334</td>\n",
       "    </tr>\n",
       "    <tr>\n",
       "      <th>14677</th>\n",
       "      <td>-0.115005</td>\n",
       "      <td>0</td>\n",
       "      <td>1</td>\n",
       "      <td>0</td>\n",
       "      <td>0</td>\n",
       "      <td>0</td>\n",
       "      <td>0</td>\n",
       "      <td>0</td>\n",
       "      <td>1</td>\n",
       "      <td>0</td>\n",
       "      <td>...</td>\n",
       "      <td>-0.168018</td>\n",
       "      <td>-0.121842</td>\n",
       "      <td>-0.263253</td>\n",
       "      <td>-0.476635</td>\n",
       "      <td>-0.292196</td>\n",
       "      <td>-0.595208</td>\n",
       "      <td>-0.580471</td>\n",
       "      <td>-0.365325</td>\n",
       "      <td>-0.356154</td>\n",
       "      <td>0.629334</td>\n",
       "    </tr>\n",
       "    <tr>\n",
       "      <th>14678</th>\n",
       "      <td>-0.115005</td>\n",
       "      <td>0</td>\n",
       "      <td>1</td>\n",
       "      <td>0</td>\n",
       "      <td>0</td>\n",
       "      <td>0</td>\n",
       "      <td>0</td>\n",
       "      <td>1</td>\n",
       "      <td>0</td>\n",
       "      <td>0</td>\n",
       "      <td>...</td>\n",
       "      <td>1.177794</td>\n",
       "      <td>0.997109</td>\n",
       "      <td>-0.426400</td>\n",
       "      <td>-0.246094</td>\n",
       "      <td>0.089392</td>\n",
       "      <td>-0.432162</td>\n",
       "      <td>-0.580471</td>\n",
       "      <td>-0.365325</td>\n",
       "      <td>-0.356154</td>\n",
       "      <td>0.629334</td>\n",
       "    </tr>\n",
       "    <tr>\n",
       "      <th>14679</th>\n",
       "      <td>-0.115005</td>\n",
       "      <td>1</td>\n",
       "      <td>0</td>\n",
       "      <td>0</td>\n",
       "      <td>0</td>\n",
       "      <td>0</td>\n",
       "      <td>0</td>\n",
       "      <td>1</td>\n",
       "      <td>1</td>\n",
       "      <td>0</td>\n",
       "      <td>...</td>\n",
       "      <td>1.168822</td>\n",
       "      <td>0.997109</td>\n",
       "      <td>-0.372018</td>\n",
       "      <td>-0.476635</td>\n",
       "      <td>-0.292196</td>\n",
       "      <td>-0.595208</td>\n",
       "      <td>-0.580471</td>\n",
       "      <td>-0.365325</td>\n",
       "      <td>-0.356154</td>\n",
       "      <td>0.181636</td>\n",
       "    </tr>\n",
       "    <tr>\n",
       "      <th>14680</th>\n",
       "      <td>-0.113779</td>\n",
       "      <td>0</td>\n",
       "      <td>1</td>\n",
       "      <td>0</td>\n",
       "      <td>0</td>\n",
       "      <td>0</td>\n",
       "      <td>0</td>\n",
       "      <td>0</td>\n",
       "      <td>1</td>\n",
       "      <td>0</td>\n",
       "      <td>...</td>\n",
       "      <td>0.540776</td>\n",
       "      <td>0.370497</td>\n",
       "      <td>-0.100106</td>\n",
       "      <td>-0.443700</td>\n",
       "      <td>-0.196799</td>\n",
       "      <td>-0.595208</td>\n",
       "      <td>-0.580471</td>\n",
       "      <td>-0.365325</td>\n",
       "      <td>-0.356154</td>\n",
       "      <td>0.629334</td>\n",
       "    </tr>\n",
       "  </tbody>\n",
       "</table>\n",
       "<p>14678 rows × 48 columns</p>\n",
       "</div>"
      ],
      "text/plain": [
       "       duration  protocol_type_0  protocol_type_1  service_0  service_1  \\\n",
       "0     -0.115005                0                1          0          0   \n",
       "1     -0.115005                0                1          0          0   \n",
       "2     -0.115005                0                1          0          0   \n",
       "3     -0.115005                1                0          0          0   \n",
       "4     -0.115005                0                1          0          0   \n",
       "...         ...              ...              ...        ...        ...   \n",
       "14676 -0.115005                0                1          0          0   \n",
       "14677 -0.115005                0                1          0          0   \n",
       "14678 -0.115005                0                1          0          0   \n",
       "14679 -0.115005                1                0          0          0   \n",
       "14680 -0.113779                0                1          0          0   \n",
       "\n",
       "       service_2  service_3  service_4  service_5  flag_0  ...  \\\n",
       "0              0          0          0          1       0  ...   \n",
       "1              0          0          1          0       0  ...   \n",
       "2              0          0          1          0       0  ...   \n",
       "3              0          0          1          1       0  ...   \n",
       "4              0          1          0          0       0  ...   \n",
       "...          ...        ...        ...        ...     ...  ...   \n",
       "14676          0          0          0          1       0  ...   \n",
       "14677          0          0          0          1       0  ...   \n",
       "14678          0          0          1          0       0  ...   \n",
       "14679          0          0          1          1       0  ...   \n",
       "14680          0          0          0          1       0  ...   \n",
       "\n",
       "       dst_host_srv_count  dst_host_same_srv_rate  dst_host_diff_srv_rate  \\\n",
       "0                0.128060                0.997109               -0.426400   \n",
       "1                1.177794                0.997109               -0.426400   \n",
       "2                1.177794                0.997109               -0.426400   \n",
       "3                1.168822                0.997109               -0.372018   \n",
       "4               -1.083171               -0.927487                0.606864   \n",
       "...                   ...                     ...                     ...   \n",
       "14676            0.289558                0.616666               -0.263253   \n",
       "14677           -0.168018               -0.121842               -0.263253   \n",
       "14678            1.177794                0.997109               -0.426400   \n",
       "14679            1.168822                0.997109               -0.372018   \n",
       "14680            0.540776                0.370497               -0.100106   \n",
       "\n",
       "       dst_host_same_src_port_rate  dst_host_srv_diff_host_rate  \\\n",
       "0                        -0.015554                    -0.101402   \n",
       "1                        -0.476635                    -0.292196   \n",
       "2                        -0.476635                    -0.292196   \n",
       "3                        -0.476635                    -0.292196   \n",
       "4                        -0.311963                    -0.292196   \n",
       "...                            ...                          ...   \n",
       "14676                    -0.443700                    -0.196799   \n",
       "14677                    -0.476635                    -0.292196   \n",
       "14678                    -0.246094                     0.089392   \n",
       "14679                    -0.476635                    -0.292196   \n",
       "14680                    -0.443700                    -0.196799   \n",
       "\n",
       "       dst_host_serror_rate  dst_host_srv_serror_rate  dst_host_rerror_rate  \\\n",
       "0                 -0.595208                 -0.487387             -0.365325   \n",
       "1                 -0.595208                 -0.580471             -0.365325   \n",
       "2                 -0.595208                 -0.580471             -0.365325   \n",
       "3                 -0.595208                 -0.580471             -0.365325   \n",
       "4                 -0.362286                  0.978697             -0.365325   \n",
       "...                     ...                       ...                   ...   \n",
       "14676             -0.595208                 -0.580471             -0.365325   \n",
       "14677             -0.595208                 -0.580471             -0.365325   \n",
       "14678             -0.432162                 -0.580471             -0.365325   \n",
       "14679             -0.595208                 -0.580471             -0.365325   \n",
       "14680             -0.595208                 -0.580471             -0.365325   \n",
       "\n",
       "       dst_host_srv_rerror_rate     level  \n",
       "0                     -0.323231  0.629334  \n",
       "1                     -0.356154  0.629334  \n",
       "2                     -0.356154  0.629334  \n",
       "3                     -0.356154  0.629334  \n",
       "4                     -0.356154 -6.981546  \n",
       "...                         ...       ...  \n",
       "14676                 -0.356154  0.629334  \n",
       "14677                 -0.356154  0.629334  \n",
       "14678                 -0.356154  0.629334  \n",
       "14679                 -0.356154  0.181636  \n",
       "14680                 -0.356154  0.629334  \n",
       "\n",
       "[14678 rows x 48 columns]"
      ]
     },
     "execution_count": 21,
     "metadata": {},
     "output_type": "execute_result"
    }
   ],
   "source": [
    "x_train_binary_ec"
   ]
  },
  {
   "cell_type": "code",
   "execution_count": 22,
   "id": "a2618d9e",
   "metadata": {},
   "outputs": [
    {
     "data": {
      "text/plain": [
       "LogisticRegression()"
      ]
     },
     "execution_count": 22,
     "metadata": {},
     "output_type": "execute_result"
    }
   ],
   "source": [
    "LR=LogisticRegression()\n",
    "LR.fit(x_train1,y_train1)"
   ]
  },
  {
   "cell_type": "code",
   "execution_count": 23,
   "id": "9da26d66",
   "metadata": {},
   "outputs": [],
   "source": [
    "y_pred_LR=LR.predict(x_test1)"
   ]
  },
  {
   "cell_type": "code",
   "execution_count": 24,
   "id": "5556f9da",
   "metadata": {},
   "outputs": [
    {
     "data": {
      "text/plain": [
       "0.985973597359736"
      ]
     },
     "execution_count": 24,
     "metadata": {},
     "output_type": "execute_result"
    }
   ],
   "source": [
    "f1_score(y_pred_LR,y_test1)"
   ]
  },
  {
   "cell_type": "code",
   "execution_count": 26,
   "id": "e55a9113",
   "metadata": {},
   "outputs": [],
   "source": [
    "model_output=LR.predict(test_binary_ec)\n",
    "pd.DataFrame(model_output, columns=['class']).to_csv('output_paula_LR_2.csv',index=False)"
   ]
  },
  {
   "cell_type": "markdown",
   "id": "32516981",
   "metadata": {},
   "source": [
    "### 2-Random Forest"
   ]
  },
  {
   "cell_type": "code",
   "execution_count": 25,
   "id": "d8506c46",
   "metadata": {},
   "outputs": [],
   "source": [
    "rf1=RandomForestClassifier(n_estimators=100,random_state=42)"
   ]
  },
  {
   "cell_type": "code",
   "execution_count": 26,
   "id": "77a963fc",
   "metadata": {},
   "outputs": [
    {
     "data": {
      "text/plain": [
       "RandomForestClassifier(random_state=42)"
      ]
     },
     "execution_count": 26,
     "metadata": {},
     "output_type": "execute_result"
    }
   ],
   "source": [
    "rf1.fit(x_train1,y_train1)"
   ]
  },
  {
   "cell_type": "code",
   "execution_count": 27,
   "id": "20674deb",
   "metadata": {},
   "outputs": [],
   "source": [
    "y_pred_rf=rf1.predict(x_test1)"
   ]
  },
  {
   "cell_type": "code",
   "execution_count": 28,
   "id": "db9e765f",
   "metadata": {},
   "outputs": [
    {
     "data": {
      "text/plain": [
       "0.9996594005449592"
      ]
     },
     "execution_count": 28,
     "metadata": {},
     "output_type": "execute_result"
    }
   ],
   "source": [
    "accuracy_score(y_pred_rf,y_test1)"
   ]
  },
  {
   "cell_type": "code",
   "execution_count": 109,
   "id": "03a40f47",
   "metadata": {},
   "outputs": [
    {
     "data": {
      "text/plain": [
       "0.9995862639635912"
      ]
     },
     "execution_count": 109,
     "metadata": {},
     "output_type": "execute_result"
    }
   ],
   "source": [
    "f1_score(y_pred_rf,y_test1)"
   ]
  },
  {
   "cell_type": "markdown",
   "id": "da5baaef",
   "metadata": {},
   "source": [
    "### 3- KNN"
   ]
  },
  {
   "cell_type": "code",
   "execution_count": 84,
   "id": "c5c0d224",
   "metadata": {},
   "outputs": [],
   "source": [
    "knn1=KNeighborsClassifier(n_neighbors=5)"
   ]
  },
  {
   "cell_type": "code",
   "execution_count": 85,
   "id": "41f3bb3f",
   "metadata": {},
   "outputs": [],
   "source": [
    "knn1.fit(x_train1,y_train1)\n",
    "y_pred_knn1=knn1.predict(x_test1)"
   ]
  },
  {
   "cell_type": "code",
   "execution_count": 86,
   "id": "5f508961",
   "metadata": {},
   "outputs": [
    {
     "data": {
      "text/plain": [
       "0.9965940054495913"
      ]
     },
     "execution_count": 86,
     "metadata": {},
     "output_type": "execute_result"
    }
   ],
   "source": [
    "accuracy_score(y_pred_knn1,y_test1)"
   ]
  },
  {
   "cell_type": "markdown",
   "id": "7c675f55",
   "metadata": {},
   "source": [
    "### 4-xgboost"
   ]
  },
  {
   "cell_type": "code",
   "execution_count": 99,
   "id": "fd1c88eb",
   "metadata": {},
   "outputs": [],
   "source": [
    "xgb_model = xgb.XGBClassifier(objective='multi:softmax', num_class=3, n_estimators=1000, learning_rate=0.05)"
   ]
  },
  {
   "cell_type": "code",
   "execution_count": 100,
   "id": "c7340b1b",
   "metadata": {},
   "outputs": [],
   "source": [
    "xgb_model.fit(x_train1,y_train1)\n",
    "y_pred_xgb=xgb_model.predict(x_test1)"
   ]
  },
  {
   "cell_type": "code",
   "execution_count": 101,
   "id": "fc2b2e05",
   "metadata": {},
   "outputs": [
    {
     "data": {
      "text/plain": [
       "0.9993188010899182"
      ]
     },
     "execution_count": 101,
     "metadata": {},
     "output_type": "execute_result"
    }
   ],
   "source": [
    "accuracy_score(y_pred_xgb,y_test1)"
   ]
  },
  {
   "cell_type": "markdown",
   "id": "c2ebe55d",
   "metadata": {},
   "source": [
    "### Feature selection"
   ]
  },
  {
   "cell_type": "code",
   "execution_count": 29,
   "id": "f4d30eb3",
   "metadata": {},
   "outputs": [
    {
     "data": {
      "text/plain": [
       "SequentialFeatureSelector(estimator=LogisticRegression(), floating=True,\n",
       "                          k_features=(39, 39), n_jobs=-1, scoring='accuracy')"
      ]
     },
     "execution_count": 29,
     "metadata": {},
     "output_type": "execute_result"
    }
   ],
   "source": [
    "sfs=SequentialFeatureSelector(LR,k_features=39,forward=True,floating=True,n_jobs=-1,cv=5)\n",
    "sfs.fit(x_train1,y_train1)"
   ]
  },
  {
   "cell_type": "code",
   "execution_count": 30,
   "id": "537a3d6f",
   "metadata": {},
   "outputs": [
    {
     "data": {
      "text/plain": [
       "('duration',\n",
       " 'protocol_type_0',\n",
       " 'service_0',\n",
       " 'service_1',\n",
       " 'service_2',\n",
       " 'service_3',\n",
       " 'service_4',\n",
       " 'service_5',\n",
       " 'flag_0',\n",
       " 'flag_2',\n",
       " 'src_bytes',\n",
       " 'dst_bytes',\n",
       " 'land',\n",
       " 'hot',\n",
       " 'num_failed_logins',\n",
       " 'logged_in',\n",
       " 'num_compromised',\n",
       " 'root_shell',\n",
       " 'su_attempted',\n",
       " 'num_root',\n",
       " 'num_file_creations',\n",
       " 'num_shells',\n",
       " 'num_access_files',\n",
       " 'is_guest_login',\n",
       " 'count',\n",
       " 'srv_count',\n",
       " 'serror_rate',\n",
       " 'srv_serror_rate',\n",
       " 'rerror_rate',\n",
       " 'same_srv_rate',\n",
       " 'diff_srv_rate',\n",
       " 'dst_host_count',\n",
       " 'dst_host_same_srv_rate',\n",
       " 'dst_host_diff_srv_rate',\n",
       " 'dst_host_same_src_port_rate',\n",
       " 'dst_host_srv_diff_host_rate',\n",
       " 'dst_host_rerror_rate',\n",
       " 'dst_host_srv_rerror_rate',\n",
       " 'level')"
      ]
     },
     "execution_count": 30,
     "metadata": {},
     "output_type": "execute_result"
    }
   ],
   "source": [
    "sfs.k_feature_names_"
   ]
  },
  {
   "cell_type": "code",
   "execution_count": 31,
   "id": "5d3a875c",
   "metadata": {},
   "outputs": [
    {
     "data": {
      "image/png": "[encoded data removed]",
      "text/plain": [
       "<Figure size 640x480 with 1 Axes>"
      ]
     },
     "metadata": {},
     "output_type": "display_data"
    }
   ],
   "source": [
    "plot_sfs(sfs.get_metric_dict(),kind='std_dev')\n",
    "plt.title('sequential selection with standrd error')\n",
    "plt.grid(linewidth=0.3, alpha=0.9)\n",
    "plt.xticks(rotation=90)\n",
    "plt.show()"
   ]
  },
  {
   "cell_type": "code",
   "execution_count": 47,
   "id": "d627db02",
   "metadata": {},
   "outputs": [
    {
     "data": {
      "text/plain": [
       "SequentialFeatureSelector(estimator=LogisticRegression(), floating=True,\n",
       "                          k_features=(23, 23), n_jobs=-1, scoring='accuracy')"
      ]
     },
     "execution_count": 47,
     "metadata": {},
     "output_type": "execute_result"
    }
   ],
   "source": [
    "sfs=SequentialFeatureSelector(LR,k_features=23,forward=True,floating=True,n_jobs=-1,cv=5)\n",
    "sfs.fit(x_train1,y_train1)"
   ]
  },
  {
   "cell_type": "code",
   "execution_count": 49,
   "id": "359a8ca6",
   "metadata": {},
   "outputs": [
    {
     "data": {
      "text/plain": [
       "('protocol_type_1',\n",
       " 'service_0',\n",
       " 'service_1',\n",
       " 'service_2',\n",
       " 'service_3',\n",
       " 'flag_1',\n",
       " 'src_bytes',\n",
       " 'dst_bytes',\n",
       " 'land',\n",
       " 'hot',\n",
       " 'num_failed_logins',\n",
       " 'logged_in',\n",
       " 'num_compromised',\n",
       " 'root_shell',\n",
       " 'su_attempted',\n",
       " 'num_root',\n",
       " 'num_file_creations',\n",
       " 'num_shells',\n",
       " 'num_access_files',\n",
       " 'is_guest_login',\n",
       " 'same_srv_rate',\n",
       " 'diff_srv_rate',\n",
       " 'level')"
      ]
     },
     "execution_count": 49,
     "metadata": {},
     "output_type": "execute_result"
    }
   ],
   "source": [
    "sfs.k_feature_names_"
   ]
  },
  {
   "cell_type": "code",
   "execution_count": 50,
   "id": "1ecb2572",
   "metadata": {},
   "outputs": [],
   "source": [
    "x_train_binary_ec_sfs=x_train_binary_ec[['protocol_type_1',\n",
    " 'service_0',\n",
    " 'service_1',\n",
    " 'service_2',\n",
    " 'service_3',\n",
    " 'flag_1',\n",
    " 'src_bytes',\n",
    " 'dst_bytes',\n",
    " 'land',\n",
    " 'hot',\n",
    " 'num_failed_logins',\n",
    " 'logged_in',\n",
    " 'num_compromised',\n",
    " 'root_shell',\n",
    " 'su_attempted',\n",
    " 'num_root',\n",
    " 'num_file_creations',\n",
    " 'num_shells',\n",
    " 'num_access_files',\n",
    " 'is_guest_login',\n",
    " 'same_srv_rate',\n",
    " 'diff_srv_rate',\n",
    " 'level']]"
   ]
  },
  {
   "cell_type": "markdown",
   "id": "ce88706d",
   "metadata": {},
   "source": [
    "### --------------------------------------------------------------------------------------------------------------------"
   ]
  },
  {
   "cell_type": "markdown",
   "id": "58b6c7fb",
   "metadata": {},
   "source": [
    "### spliting after feature selection\n"
   ]
  },
  {
   "cell_type": "code",
   "execution_count": 51,
   "id": "76c74c38",
   "metadata": {},
   "outputs": [],
   "source": [
    "x_train,x_test,y_train,y_test=train_test_split(x_train_binary_ec_sfs,y,test_size=0.2,random_state=42)"
   ]
  },
  {
   "cell_type": "markdown",
   "id": "a78a1bd2",
   "metadata": {},
   "source": [
    "### --------------------------------------------------------------------------------------------------------"
   ]
  },
  {
   "cell_type": "markdown",
   "id": "d0743cbd",
   "metadata": {},
   "source": [
    "# Machine Learning models"
   ]
  },
  {
   "cell_type": "markdown",
   "id": "5c8007eb",
   "metadata": {},
   "source": [
    "### 1-KNN"
   ]
  },
  {
   "cell_type": "code",
   "execution_count": 52,
   "id": "573600b7",
   "metadata": {},
   "outputs": [],
   "source": [
    "knn=KNeighborsClassifier(n_neighbors=5)"
   ]
  },
  {
   "cell_type": "code",
   "execution_count": 53,
   "id": "d285f943",
   "metadata": {},
   "outputs": [
    {
     "data": {
      "text/plain": [
       "KNeighborsClassifier()"
      ]
     },
     "execution_count": 53,
     "metadata": {},
     "output_type": "execute_result"
    }
   ],
   "source": [
    "knn.fit(x_train,y_train)"
   ]
  },
  {
   "cell_type": "code",
   "execution_count": 54,
   "id": "ccbbc15a",
   "metadata": {},
   "outputs": [],
   "source": [
    "y_pred_knn=knn.predict(x_test)"
   ]
  },
  {
   "cell_type": "code",
   "execution_count": 55,
   "id": "2fcffa1f",
   "metadata": {},
   "outputs": [
    {
     "data": {
      "text/plain": [
       "0.9853542234332425"
      ]
     },
     "execution_count": 55,
     "metadata": {},
     "output_type": "execute_result"
    }
   ],
   "source": [
    "accuracy_score(y_pred_knn,y_test)"
   ]
  },
  {
   "cell_type": "markdown",
   "id": "5a9db424",
   "metadata": {},
   "source": [
    "### 2-Logistics Regression"
   ]
  },
  {
   "cell_type": "code",
   "execution_count": 56,
   "id": "2ecf125c",
   "metadata": {},
   "outputs": [
    {
     "data": {
      "text/plain": [
       "LogisticRegression()"
      ]
     },
     "execution_count": 56,
     "metadata": {},
     "output_type": "execute_result"
    }
   ],
   "source": [
    "LR.fit(x_train,y_train)\n"
   ]
  },
  {
   "cell_type": "code",
   "execution_count": 57,
   "id": "823851a7",
   "metadata": {},
   "outputs": [],
   "source": [
    "y_pred_LR_sfs=LR.predict(x_test)"
   ]
  },
  {
   "cell_type": "code",
   "execution_count": 58,
   "id": "98c0bf3f",
   "metadata": {},
   "outputs": [
    {
     "data": {
      "text/plain": [
       "0.9669618528610354"
      ]
     },
     "execution_count": 58,
     "metadata": {},
     "output_type": "execute_result"
    }
   ],
   "source": [
    "accuracy_score(y_pred_LR_sfs,y_test)"
   ]
  },
  {
   "cell_type": "code",
   "execution_count": 59,
   "id": "12f2cf79",
   "metadata": {},
   "outputs": [
    {
     "name": "stdout",
     "output_type": "stream",
     "text": [
      "(11742, 23) (11742,) (2936, 23) (2936,)\n"
     ]
    }
   ],
   "source": [
    "print(x_train.shape,y_train.shape,x_test.shape,y_test.shape)\n"
   ]
  },
  {
   "cell_type": "markdown",
   "id": "d6842463",
   "metadata": {},
   "source": [
    "### 3-Random forest "
   ]
  },
  {
   "cell_type": "code",
   "execution_count": 60,
   "id": "b1feb721",
   "metadata": {},
   "outputs": [
    {
     "data": {
      "text/plain": [
       "RandomForestClassifier(random_state=42)"
      ]
     },
     "execution_count": 60,
     "metadata": {},
     "output_type": "execute_result"
    }
   ],
   "source": [
    "rf=RandomForestClassifier(n_estimators=100,random_state=42)\n",
    "rf.fit(x_train,y_train)"
   ]
  },
  {
   "cell_type": "code",
   "execution_count": 61,
   "id": "9855d304",
   "metadata": {},
   "outputs": [],
   "source": [
    "y_pred_rf_sfs=rf.predict(x_test)"
   ]
  },
  {
   "cell_type": "code",
   "execution_count": 62,
   "id": "474cf9ae",
   "metadata": {},
   "outputs": [
    {
     "data": {
      "text/plain": [
       "0.9962534059945504"
      ]
     },
     "execution_count": 62,
     "metadata": {},
     "output_type": "execute_result"
    }
   ],
   "source": [
    "accuracy_score(y_pred_rf_sfs,y_test)"
   ]
  },
  {
   "cell_type": "markdown",
   "id": "6179335d",
   "metadata": {},
   "source": [
    "### 4- XGboost"
   ]
  },
  {
   "cell_type": "code",
   "execution_count": 102,
   "id": "8b93ae09",
   "metadata": {},
   "outputs": [],
   "source": [
    "xgb_model_1=xgb.XGBClassifier(objective='multi:softmax', num_class=3, n_estimators=1000, learning_rate=0.05)"
   ]
  },
  {
   "cell_type": "code",
   "execution_count": 103,
   "id": "93435636",
   "metadata": {},
   "outputs": [
    {
     "data": {
      "text/plain": [
       "XGBClassifier(base_score=None, booster=None, callbacks=None,\n",
       "              colsample_bylevel=None, colsample_bynode=None,\n",
       "              colsample_bytree=None, early_stopping_rounds=None,\n",
       "              enable_categorical=False, eval_metric=None, feature_types=None,\n",
       "              gamma=None, gpu_id=None, grow_policy=None, importance_type=None,\n",
       "              interaction_constraints=None, learning_rate=0.05, max_bin=None,\n",
       "              max_cat_threshold=None, max_cat_to_onehot=None,\n",
       "              max_delta_step=None, max_depth=None, max_leaves=None,\n",
       "              min_child_weight=None, missing=nan, monotone_constraints=None,\n",
       "              n_estimators=1000, n_jobs=None, num_class=3,\n",
       "              num_parallel_tree=None, objective='multi:softmax', ...)"
      ]
     },
     "execution_count": 103,
     "metadata": {},
     "output_type": "execute_result"
    }
   ],
   "source": [
    "xgb_model_1.fit(x_train,y_train)"
   ]
  },
  {
   "cell_type": "code",
   "execution_count": 104,
   "id": "21c4a6fe",
   "metadata": {},
   "outputs": [],
   "source": [
    "y_pred_xgb_sfs=xgb_model_1.predict(x_test)"
   ]
  },
  {
   "cell_type": "code",
   "execution_count": 107,
   "id": "d10baa0f",
   "metadata": {},
   "outputs": [
    {
     "data": {
      "text/plain": [
       "0.997275204359673"
      ]
     },
     "execution_count": 107,
     "metadata": {},
     "output_type": "execute_result"
    }
   ],
   "source": [
    "accuracy_score(y_pred_xgb_sfs,y_test,)"
   ]
  },
  {
   "cell_type": "code",
   "execution_count": 108,
   "id": "9fd6e264",
   "metadata": {},
   "outputs": [
    {
     "data": {
      "text/plain": [
       "0.9966859983429991"
      ]
     },
     "execution_count": 108,
     "metadata": {},
     "output_type": "execute_result"
    }
   ],
   "source": [
    "f1_score(y_pred_xgb_sfs,y_test)"
   ]
  },
  {
   "cell_type": "markdown",
   "id": "6e79646e",
   "metadata": {},
   "source": [
    "### -------------------------------------------------------------------------------------------------------------------------"
   ]
  },
  {
   "cell_type": "markdown",
   "id": "8ec82657",
   "metadata": {},
   "source": [
    "### we find that the highest accuracy score is random fores before feature selection"
   ]
  },
  {
   "cell_type": "code",
   "execution_count": 25,
   "id": "e0ee45aa",
   "metadata": {},
   "outputs": [],
   "source": [
    "test_binary_ec=encoder.fit_transform(test_data)\n",
    "numerical_col=test_data.select_dtypes(include=['float64', 'int64']).columns\n",
    "test_binary_ec[numerical_col]=scaler.fit_transform(test_binary_ec[numerical_col])"
   ]
  },
  {
   "cell_type": "code",
   "execution_count": 70,
   "id": "ed70fd9e",
   "metadata": {},
   "outputs": [],
   "source": [
    "\n",
    "model_output=rf1.predict(test_binary_ec)\n",
    "pd.DataFrame(model_output, columns=['class']).to_csv('output_paula_random_forest.csv',index=False)"
   ]
  },
  {
   "cell_type": "code",
   "execution_count": 46,
   "id": "6d04036e",
   "metadata": {
    "collapsed": true
   },
   "outputs": [
    {
     "data": {
      "text/html": [
       "<div>\n",
       "<style scoped>\n",
       "    .dataframe tbody tr th:only-of-type {\n",
       "        vertical-align: middle;\n",
       "    }\n",
       "\n",
       "    .dataframe tbody tr th {\n",
       "        vertical-align: top;\n",
       "    }\n",
       "\n",
       "    .dataframe thead th {\n",
       "        text-align: right;\n",
       "    }\n",
       "</style>\n",
       "<table border=\"1\" class=\"dataframe\">\n",
       "  <thead>\n",
       "    <tr style=\"text-align: right;\">\n",
       "      <th></th>\n",
       "      <th>duration</th>\n",
       "      <th>protocol_type_0</th>\n",
       "      <th>protocol_type_1</th>\n",
       "      <th>service_0</th>\n",
       "      <th>service_1</th>\n",
       "      <th>service_2</th>\n",
       "      <th>service_3</th>\n",
       "      <th>service_4</th>\n",
       "      <th>service_5</th>\n",
       "      <th>flag_0</th>\n",
       "      <th>...</th>\n",
       "      <th>dst_host_srv_count</th>\n",
       "      <th>dst_host_same_srv_rate</th>\n",
       "      <th>dst_host_diff_srv_rate</th>\n",
       "      <th>dst_host_same_src_port_rate</th>\n",
       "      <th>dst_host_srv_diff_host_rate</th>\n",
       "      <th>dst_host_serror_rate</th>\n",
       "      <th>dst_host_srv_serror_rate</th>\n",
       "      <th>dst_host_rerror_rate</th>\n",
       "      <th>dst_host_srv_rerror_rate</th>\n",
       "      <th>level</th>\n",
       "    </tr>\n",
       "  </thead>\n",
       "  <tbody>\n",
       "    <tr>\n",
       "      <th>0</th>\n",
       "      <td>-0.114506</td>\n",
       "      <td>0</td>\n",
       "      <td>1</td>\n",
       "      <td>0</td>\n",
       "      <td>0</td>\n",
       "      <td>0</td>\n",
       "      <td>0</td>\n",
       "      <td>0</td>\n",
       "      <td>1</td>\n",
       "      <td>0</td>\n",
       "      <td>...</td>\n",
       "      <td>1.125647</td>\n",
       "      <td>1.099286</td>\n",
       "      <td>-0.450174</td>\n",
       "      <td>-0.189245</td>\n",
       "      <td>-0.194375</td>\n",
       "      <td>-0.645482</td>\n",
       "      <td>-0.630330</td>\n",
       "      <td>2.763095</td>\n",
       "      <td>-0.170723</td>\n",
       "      <td>0.662682</td>\n",
       "    </tr>\n",
       "    <tr>\n",
       "      <th>1</th>\n",
       "      <td>-0.114506</td>\n",
       "      <td>0</td>\n",
       "      <td>1</td>\n",
       "      <td>0</td>\n",
       "      <td>0</td>\n",
       "      <td>0</td>\n",
       "      <td>0</td>\n",
       "      <td>1</td>\n",
       "      <td>0</td>\n",
       "      <td>0</td>\n",
       "      <td>...</td>\n",
       "      <td>-0.680797</td>\n",
       "      <td>-0.397319</td>\n",
       "      <td>-0.085474</td>\n",
       "      <td>0.589259</td>\n",
       "      <td>0.147790</td>\n",
       "      <td>-0.645482</td>\n",
       "      <td>-0.630330</td>\n",
       "      <td>-0.401214</td>\n",
       "      <td>-0.385733</td>\n",
       "      <td>0.236243</td>\n",
       "    </tr>\n",
       "    <tr>\n",
       "      <th>2</th>\n",
       "      <td>-0.114506</td>\n",
       "      <td>1</td>\n",
       "      <td>0</td>\n",
       "      <td>0</td>\n",
       "      <td>0</td>\n",
       "      <td>0</td>\n",
       "      <td>0</td>\n",
       "      <td>1</td>\n",
       "      <td>1</td>\n",
       "      <td>0</td>\n",
       "      <td>...</td>\n",
       "      <td>1.298121</td>\n",
       "      <td>1.099286</td>\n",
       "      <td>-0.450174</td>\n",
       "      <td>-0.481185</td>\n",
       "      <td>-0.279917</td>\n",
       "      <td>-0.645482</td>\n",
       "      <td>-0.630330</td>\n",
       "      <td>-0.401214</td>\n",
       "      <td>-0.385733</td>\n",
       "      <td>0.662682</td>\n",
       "    </tr>\n",
       "    <tr>\n",
       "      <th>3</th>\n",
       "      <td>-0.114506</td>\n",
       "      <td>0</td>\n",
       "      <td>1</td>\n",
       "      <td>0</td>\n",
       "      <td>0</td>\n",
       "      <td>0</td>\n",
       "      <td>0</td>\n",
       "      <td>0</td>\n",
       "      <td>1</td>\n",
       "      <td>0</td>\n",
       "      <td>...</td>\n",
       "      <td>1.298121</td>\n",
       "      <td>1.099286</td>\n",
       "      <td>-0.450174</td>\n",
       "      <td>-0.481185</td>\n",
       "      <td>-0.194375</td>\n",
       "      <td>-0.645482</td>\n",
       "      <td>-0.630330</td>\n",
       "      <td>-0.401214</td>\n",
       "      <td>-0.385733</td>\n",
       "      <td>0.662682</td>\n",
       "    </tr>\n",
       "    <tr>\n",
       "      <th>4</th>\n",
       "      <td>-0.114506</td>\n",
       "      <td>0</td>\n",
       "      <td>1</td>\n",
       "      <td>0</td>\n",
       "      <td>0</td>\n",
       "      <td>0</td>\n",
       "      <td>1</td>\n",
       "      <td>0</td>\n",
       "      <td>0</td>\n",
       "      <td>0</td>\n",
       "      <td>...</td>\n",
       "      <td>0.490214</td>\n",
       "      <td>0.652538</td>\n",
       "      <td>1.633824</td>\n",
       "      <td>0.167569</td>\n",
       "      <td>-0.108834</td>\n",
       "      <td>-0.645482</td>\n",
       "      <td>-0.630330</td>\n",
       "      <td>-0.401214</td>\n",
       "      <td>-0.385733</td>\n",
       "      <td>0.662682</td>\n",
       "    </tr>\n",
       "    <tr>\n",
       "      <th>...</th>\n",
       "      <td>...</td>\n",
       "      <td>...</td>\n",
       "      <td>...</td>\n",
       "      <td>...</td>\n",
       "      <td>...</td>\n",
       "      <td>...</td>\n",
       "      <td>...</td>\n",
       "      <td>...</td>\n",
       "      <td>...</td>\n",
       "      <td>...</td>\n",
       "      <td>...</td>\n",
       "      <td>...</td>\n",
       "      <td>...</td>\n",
       "      <td>...</td>\n",
       "      <td>...</td>\n",
       "      <td>...</td>\n",
       "      <td>...</td>\n",
       "      <td>...</td>\n",
       "      <td>...</td>\n",
       "      <td>...</td>\n",
       "      <td>...</td>\n",
       "    </tr>\n",
       "    <tr>\n",
       "      <th>5746</th>\n",
       "      <td>-0.114506</td>\n",
       "      <td>0</td>\n",
       "      <td>1</td>\n",
       "      <td>0</td>\n",
       "      <td>0</td>\n",
       "      <td>1</td>\n",
       "      <td>0</td>\n",
       "      <td>0</td>\n",
       "      <td>1</td>\n",
       "      <td>0</td>\n",
       "      <td>...</td>\n",
       "      <td>-0.816961</td>\n",
       "      <td>-0.933416</td>\n",
       "      <td>-0.189674</td>\n",
       "      <td>-0.481185</td>\n",
       "      <td>-0.279917</td>\n",
       "      <td>1.594177</td>\n",
       "      <td>1.607922</td>\n",
       "      <td>-0.401214</td>\n",
       "      <td>-0.385733</td>\n",
       "      <td>0.236243</td>\n",
       "    </tr>\n",
       "    <tr>\n",
       "      <th>5747</th>\n",
       "      <td>-0.114506</td>\n",
       "      <td>0</td>\n",
       "      <td>1</td>\n",
       "      <td>0</td>\n",
       "      <td>0</td>\n",
       "      <td>0</td>\n",
       "      <td>1</td>\n",
       "      <td>0</td>\n",
       "      <td>0</td>\n",
       "      <td>0</td>\n",
       "      <td>...</td>\n",
       "      <td>0.081722</td>\n",
       "      <td>-0.173945</td>\n",
       "      <td>-0.345974</td>\n",
       "      <td>-0.448747</td>\n",
       "      <td>-0.108834</td>\n",
       "      <td>-0.645482</td>\n",
       "      <td>-0.630330</td>\n",
       "      <td>-0.401214</td>\n",
       "      <td>-0.385733</td>\n",
       "      <td>0.662682</td>\n",
       "    </tr>\n",
       "    <tr>\n",
       "      <th>5748</th>\n",
       "      <td>-0.114506</td>\n",
       "      <td>0</td>\n",
       "      <td>1</td>\n",
       "      <td>0</td>\n",
       "      <td>0</td>\n",
       "      <td>0</td>\n",
       "      <td>0</td>\n",
       "      <td>0</td>\n",
       "      <td>1</td>\n",
       "      <td>0</td>\n",
       "      <td>...</td>\n",
       "      <td>-0.789728</td>\n",
       "      <td>-0.911079</td>\n",
       "      <td>-0.189674</td>\n",
       "      <td>-0.481185</td>\n",
       "      <td>-0.279917</td>\n",
       "      <td>1.594177</td>\n",
       "      <td>1.607922</td>\n",
       "      <td>-0.401214</td>\n",
       "      <td>-0.385733</td>\n",
       "      <td>-0.190196</td>\n",
       "    </tr>\n",
       "    <tr>\n",
       "      <th>5749</th>\n",
       "      <td>-0.114506</td>\n",
       "      <td>0</td>\n",
       "      <td>1</td>\n",
       "      <td>0</td>\n",
       "      <td>0</td>\n",
       "      <td>0</td>\n",
       "      <td>0</td>\n",
       "      <td>0</td>\n",
       "      <td>1</td>\n",
       "      <td>0</td>\n",
       "      <td>...</td>\n",
       "      <td>1.298121</td>\n",
       "      <td>1.099286</td>\n",
       "      <td>-0.450174</td>\n",
       "      <td>-0.481185</td>\n",
       "      <td>-0.279917</td>\n",
       "      <td>-0.645482</td>\n",
       "      <td>-0.630330</td>\n",
       "      <td>-0.401214</td>\n",
       "      <td>-0.385733</td>\n",
       "      <td>0.662682</td>\n",
       "    </tr>\n",
       "    <tr>\n",
       "      <th>5750</th>\n",
       "      <td>-0.114506</td>\n",
       "      <td>0</td>\n",
       "      <td>1</td>\n",
       "      <td>1</td>\n",
       "      <td>0</td>\n",
       "      <td>0</td>\n",
       "      <td>1</td>\n",
       "      <td>0</td>\n",
       "      <td>0</td>\n",
       "      <td>0</td>\n",
       "      <td>...</td>\n",
       "      <td>-0.880504</td>\n",
       "      <td>-1.000429</td>\n",
       "      <td>-0.033374</td>\n",
       "      <td>-0.481185</td>\n",
       "      <td>-0.279917</td>\n",
       "      <td>1.594177</td>\n",
       "      <td>1.607922</td>\n",
       "      <td>-0.401214</td>\n",
       "      <td>-0.385733</td>\n",
       "      <td>-0.616634</td>\n",
       "    </tr>\n",
       "  </tbody>\n",
       "</table>\n",
       "<p>5751 rows × 48 columns</p>\n",
       "</div>"
      ],
      "text/plain": [
       "      duration  protocol_type_0  protocol_type_1  service_0  service_1  \\\n",
       "0    -0.114506                0                1          0          0   \n",
       "1    -0.114506                0                1          0          0   \n",
       "2    -0.114506                1                0          0          0   \n",
       "3    -0.114506                0                1          0          0   \n",
       "4    -0.114506                0                1          0          0   \n",
       "...        ...              ...              ...        ...        ...   \n",
       "5746 -0.114506                0                1          0          0   \n",
       "5747 -0.114506                0                1          0          0   \n",
       "5748 -0.114506                0                1          0          0   \n",
       "5749 -0.114506                0                1          0          0   \n",
       "5750 -0.114506                0                1          1          0   \n",
       "\n",
       "      service_2  service_3  service_4  service_5  flag_0  ...  \\\n",
       "0             0          0          0          1       0  ...   \n",
       "1             0          0          1          0       0  ...   \n",
       "2             0          0          1          1       0  ...   \n",
       "3             0          0          0          1       0  ...   \n",
       "4             0          1          0          0       0  ...   \n",
       "...         ...        ...        ...        ...     ...  ...   \n",
       "5746          1          0          0          1       0  ...   \n",
       "5747          0          1          0          0       0  ...   \n",
       "5748          0          0          0          1       0  ...   \n",
       "5749          0          0          0          1       0  ...   \n",
       "5750          0          1          0          0       0  ...   \n",
       "\n",
       "      dst_host_srv_count  dst_host_same_srv_rate  dst_host_diff_srv_rate  \\\n",
       "0               1.125647                1.099286               -0.450174   \n",
       "1              -0.680797               -0.397319               -0.085474   \n",
       "2               1.298121                1.099286               -0.450174   \n",
       "3               1.298121                1.099286               -0.450174   \n",
       "4               0.490214                0.652538                1.633824   \n",
       "...                  ...                     ...                     ...   \n",
       "5746           -0.816961               -0.933416               -0.189674   \n",
       "5747            0.081722               -0.173945               -0.345974   \n",
       "5748           -0.789728               -0.911079               -0.189674   \n",
       "5749            1.298121                1.099286               -0.450174   \n",
       "5750           -0.880504               -1.000429               -0.033374   \n",
       "\n",
       "      dst_host_same_src_port_rate  dst_host_srv_diff_host_rate  \\\n",
       "0                       -0.189245                    -0.194375   \n",
       "1                        0.589259                     0.147790   \n",
       "2                       -0.481185                    -0.279917   \n",
       "3                       -0.481185                    -0.194375   \n",
       "4                        0.167569                    -0.108834   \n",
       "...                           ...                          ...   \n",
       "5746                    -0.481185                    -0.279917   \n",
       "5747                    -0.448747                    -0.108834   \n",
       "5748                    -0.481185                    -0.279917   \n",
       "5749                    -0.481185                    -0.279917   \n",
       "5750                    -0.481185                    -0.279917   \n",
       "\n",
       "      dst_host_serror_rate  dst_host_srv_serror_rate  dst_host_rerror_rate  \\\n",
       "0                -0.645482                 -0.630330              2.763095   \n",
       "1                -0.645482                 -0.630330             -0.401214   \n",
       "2                -0.645482                 -0.630330             -0.401214   \n",
       "3                -0.645482                 -0.630330             -0.401214   \n",
       "4                -0.645482                 -0.630330             -0.401214   \n",
       "...                    ...                       ...                   ...   \n",
       "5746              1.594177                  1.607922             -0.401214   \n",
       "5747             -0.645482                 -0.630330             -0.401214   \n",
       "5748              1.594177                  1.607922             -0.401214   \n",
       "5749             -0.645482                 -0.630330             -0.401214   \n",
       "5750              1.594177                  1.607922             -0.401214   \n",
       "\n",
       "      dst_host_srv_rerror_rate     level  \n",
       "0                    -0.170723  0.662682  \n",
       "1                    -0.385733  0.236243  \n",
       "2                    -0.385733  0.662682  \n",
       "3                    -0.385733  0.662682  \n",
       "4                    -0.385733  0.662682  \n",
       "...                        ...       ...  \n",
       "5746                 -0.385733  0.236243  \n",
       "5747                 -0.385733  0.662682  \n",
       "5748                 -0.385733 -0.190196  \n",
       "5749                 -0.385733  0.662682  \n",
       "5750                 -0.385733 -0.616634  \n",
       "\n",
       "[5751 rows x 48 columns]"
      ]
     },
     "execution_count": 46,
     "metadata": {},
     "output_type": "execute_result"
    }
   ],
   "source": [
    "test_binary_ec"
   ]
  },
  {
   "cell_type": "markdown",
   "id": "a096a0a1",
   "metadata": {},
   "source": [
    "### using knn before feature selection\n"
   ]
  },
  {
   "cell_type": "code",
   "execution_count": 87,
   "id": "f324a452",
   "metadata": {},
   "outputs": [],
   "source": [
    "model_output=knn1.predict(test_binary_ec)\n",
    "pd.DataFrame(model_output, columns=['class']).to_csv('output_paula_knn.csv',index=False)"
   ]
  }
 ],
 "metadata": {
  "kernelspec": {
   "display_name": "Python 3 (ipykernel)",
   "language": "python",
   "name": "python3"
  },
  "language_info": {
   "codemirror_mode": {
    "name": "ipython",
    "version": 3
   },
   "file_extension": ".py",
   "mimetype": "text/x-python",
   "name": "python",
   "nbconvert_exporter": "python",
   "pygments_lexer": "ipython3",
   "version": "3.9.13"
  }
 },
 "nbformat": 4,
 "nbformat_minor": 5
}
